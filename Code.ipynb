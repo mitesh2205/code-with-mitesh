{
 "cells": [
  {
   "cell_type": "markdown",
   "metadata": {},
   "source": [
    "## Stack"
   ]
  },
  {
   "cell_type": "markdown",
   "metadata": {},
   "source": [
    "##### Implementing the stack data structure in Python"
   ]
  },
  {
   "cell_type": "code",
   "execution_count": 2,
   "metadata": {},
   "outputs": [
    {
     "name": "stdout",
     "output_type": "stream",
     "text": [
      "[10, 20]\n",
      "None\n"
     ]
    }
   ],
   "source": [
    "class stack:\n",
    "    def __init__(self) -> None:\n",
    "        self.stack = []\n",
    "        self.size = 0\n",
    "    \n",
    "    def push(self, data):\n",
    "        self.stack.append(data)\n",
    "        self.size += 1\n",
    "    \n",
    "    def pop(self):\n",
    "        self.size -= 1\n",
    "        return self.stack.pop()\n",
    "\n",
    "    def peek(self):\n",
    "        return self.stack[-1]\n",
    "    \n",
    "    def isEmpty(self):\n",
    "        return self.size == 0\n",
    "\n",
    "    def __str__(self) -> str:\n",
    "        return str(self.stack)\n",
    "    \n",
    "    def __len__(self):\n",
    "        return self.size\n",
    "    \n",
    "    def __iter__(self):\n",
    "        for i in self.stack:\n",
    "            yield i\n",
    "\n",
    "def main():\n",
    "    st = stack()\n",
    "    st.push(10)\n",
    "    st.push(20)\n",
    "    st.push(30)\n",
    "    st.pop()\n",
    "    print(st)\n",
    "\n",
    "print(main())\n"
   ]
  },
  {
   "cell_type": "markdown",
   "metadata": {},
   "source": [
    "#### Implementing stack using list"
   ]
  },
  {
   "cell_type": "code",
   "execution_count": 3,
   "metadata": {},
   "outputs": [
    {
     "name": "stdout",
     "output_type": "stream",
     "text": [
      "[10, 20]\n"
     ]
    }
   ],
   "source": [
    "stack = []\n",
    "\n",
    "stack.append(10)\n",
    "stack.append(20)\n",
    "stack.append(30)\n",
    "stack.pop()\n",
    "print(stack)\n"
   ]
  },
  {
   "cell_type": "markdown",
   "metadata": {},
   "source": [
    "#### Impleminting stack using Array"
   ]
  },
  {
   "cell_type": "code",
   "execution_count": null,
   "metadata": {},
   "outputs": [],
   "source": [
    "class stack:\n",
    "    def __init__(self):\n",
    "        self.top = -1\n",
    "        self.size = 1000\n",
    "        self.arr = [0] * self.size\n",
    "\n",
    "    def push(self,data):\n",
    "        self.top += 1\n",
    "        self.arr[self.top] = data\n",
    "    \n",
    "    def pop(self):\n",
    "        x = self.arr[self.top]\n",
    "        self.top -= 1\n",
    "        return x\n",
    "\n",
    "    def top(self):\n",
    "        return self.arr[self.top]\n",
    "\n",
    "    def size(self):\n",
    "        return self.top + 1"
   ]
  },
  {
   "cell_type": "markdown",
   "metadata": {},
   "source": [
    "#### Implementing queue using stack"
   ]
  },
  {
   "cell_type": "code",
   "execution_count": 4,
   "metadata": {},
   "outputs": [
    {
     "name": "stdout",
     "output_type": "stream",
     "text": [
      "10 is pushed to queue\n",
      "20 is pushed to queue\n",
      "30 is pushed to queue\n",
      "40 is pushed to queue\n",
      "50 is pushed to queue\n",
      "Queue is full\n",
      "60 is pushed to queue\n",
      "60\n",
      "20\n",
      "30\n"
     ]
    }
   ],
   "source": [
    "class queue:\n",
    "    def __init__(self) -> None:\n",
    "        self.front = -1\n",
    "        self.back = -1\n",
    "        self.curr_size = 0\n",
    "        self.max_size = 5\n",
    "        self.arr = [0] * self.max_size\n",
    "\n",
    "    def push(self, new_value):\n",
    "        if self.curr_size == self.max_size:\n",
    "            print(\"Queue is full\")\n",
    "            exit(1)\n",
    "        \n",
    "        if self.back == -1:\n",
    "            self.front = 0\n",
    "            self.back = 0\n",
    "        else:\n",
    "            self.back = (self.back + 1) % self.max_size\n",
    "        \n",
    "        self.arr[self.back] = new_value\n",
    "        print(f\"{new_value} is pushed to queue\")\n",
    "        self.curr_size += 1\n",
    "\n",
    "    def pop(self):\n",
    "        if self.front == -1:\n",
    "            print(\"Queue is empty\")\n",
    "            exit(1)\n",
    "        \n",
    "        popped = self.arr[self.front]\n",
    "\n",
    "        if self.curr_size == 1:\n",
    "            self.front = -1\n",
    "            self.back = -1\n",
    "        else:\n",
    "            self.front = (self.front + 1) % self.max_size\n",
    "\n",
    "        self.curr_size -= 1\n",
    "\n",
    "        return popped   \n",
    "\n",
    "    def top(self):\n",
    "        if self.front == -1:\n",
    "            print(\"Queue is empty\")\n",
    "            exit(1)\n",
    "        \n",
    "        return self.arr[self.front]\n",
    "    \n",
    "    def size(self):\n",
    "        return self.curr_size\n",
    "    \n",
    "\n",
    "if __name__ == \"__main__\":\n",
    "    q = queue()\n",
    "    q.push(10)\n",
    "    q.push(20)\n",
    "    q.push(30)\n",
    "    q.push(40)\n",
    "    q.push(50)\n",
    "    q.push(60)\n",
    "    print(q.pop())\n",
    "    print(q.pop())\n",
    "    print(q.pop())\n",
    "    \n",
    "    \n"
   ]
  },
  {
   "cell_type": "markdown",
   "metadata": {},
   "source": [
    "#### Valid Parenthesis"
   ]
  },
  {
   "cell_type": "code",
   "execution_count": 4,
   "metadata": {},
   "outputs": [
    {
     "name": "stdout",
     "output_type": "stream",
     "text": [
      "True\n"
     ]
    }
   ],
   "source": [
    "def valid_parenthesis(string):\n",
    "    st = []\n",
    "    hashmap = {\"}\": \"{\", \"]\": \"[\", \")\": \"(\"}\n",
    "    for i in string:\n",
    "        if i in hashmap:\n",
    "            if st and st[-1] == hashmap[i]:\n",
    "                st.pop()\n",
    "            else:\n",
    "                return False\n",
    "        else:\n",
    "            st.append(i)\n",
    "\n",
    "    return len(st) == 0\n",
    "\n",
    "print(valid_parenthesis(\"()[]{}\"))\n",
    "    "
   ]
  },
  {
   "cell_type": "markdown",
   "metadata": {},
   "source": [
    "#### Simlify Path"
   ]
  },
  {
   "cell_type": "code",
   "execution_count": 1,
   "metadata": {},
   "outputs": [
    {
     "name": "stdout",
     "output_type": "stream",
     "text": [
      "/home\n",
      "/\n"
     ]
    }
   ],
   "source": [
    "def simplify_path(path):\n",
    "    stack = []\n",
    "    curr = \"\"\n",
    "\n",
    "    for c in path + \"/\":\n",
    "        if c == \"/\":\n",
    "            if curr == \"..\":\n",
    "                if stack:\n",
    "                    stack.pop()\n",
    "            elif curr != \"\" and curr != \".\":\n",
    "                stack.append(curr)\n",
    "            curr = \"\"\n",
    "        else:\n",
    "            curr += c\n",
    "\n",
    "    return \"/\" + \"/\".join(stack)\n",
    "\n",
    "print(simplify_path(\"/home/\"))\n",
    "print(simplify_path(\"/../\"))"
   ]
  },
  {
   "cell_type": "markdown",
   "metadata": {},
   "source": [
    "#### Generate Parenthesis"
   ]
  },
  {
   "cell_type": "code",
   "execution_count": 2,
   "metadata": {},
   "outputs": [
    {
     "name": "stdout",
     "output_type": "stream",
     "text": [
      "['((()))', '(()())', '(())()', '()(())', '()()()']\n"
     ]
    }
   ],
   "source": [
    "def generate_parenthesis(n):\n",
    "    result = []\n",
    "    stack = []\n",
    "    def backtrack(left_b, right_b):\n",
    "        if left_b == right_b == n:\n",
    "            result.append(\"\".join(stack))\n",
    "            return\n",
    "\n",
    "        if left_b <n:\n",
    "            stack.append(\"(\")\n",
    "            backtrack(left_b + 1, right_b)\n",
    "            stack.pop()\n",
    "        \n",
    "        if right_b < left_b:\n",
    "            stack.append(\")\")\n",
    "            backtrack(left_b, right_b + 1)\n",
    "            stack.pop()\n",
    "        \n",
    "    backtrack(0,0)\n",
    "    return result\n",
    "\n",
    "print(generate_parenthesis(3))"
   ]
  },
  {
   "cell_type": "markdown",
   "metadata": {},
   "source": [
    "#### Daily Temperatures"
   ]
  },
  {
   "cell_type": "code",
   "execution_count": 4,
   "metadata": {},
   "outputs": [
    {
     "name": "stdout",
     "output_type": "stream",
     "text": [
      "[1, 1, 4, 2, 1, 1, 0, 0]\n"
     ]
    }
   ],
   "source": [
    "def daily_temperature(temperatures):\n",
    "    stack = []\n",
    "    result = [0] * len(temperatures)\n",
    "\n",
    "    for i, temp in enumerate(temperatures):\n",
    "        while stack and temp > temperatures[stack[-1]]:\n",
    "            index = stack.pop()\n",
    "            result[index] = i - index\n",
    "        stack.append(i)\n",
    "\n",
    "    return result\n",
    "\n",
    "print(daily_temperature([73,74,75,71,69,72,76,73]))"
   ]
  },
  {
   "cell_type": "markdown",
   "metadata": {},
   "source": [
    "#### Asteriod Collision"
   ]
  },
  {
   "cell_type": "code",
   "execution_count": 5,
   "metadata": {},
   "outputs": [
    {
     "name": "stdout",
     "output_type": "stream",
     "text": [
      "[5, 10]\n"
     ]
    }
   ],
   "source": [
    "def asteriod_collision(asteriods):\n",
    "    stack = []\n",
    "\n",
    "    for i in asteriods:\n",
    "        while stack and i < 0 < stack[-1]:\n",
    "            if stack[-1] + i <0:\n",
    "                stack.pop()\n",
    "                continue\n",
    "            elif stack[-1] + i == 0:\n",
    "                stack.pop()\n",
    "            break\n",
    "        else: stack.append(i)\n",
    "    return stack\n",
    "\n",
    "print(asteriod_collision([5,10,-5]))"
   ]
  },
  {
   "cell_type": "markdown",
   "metadata": {},
   "source": [
    "#### CarFleet"
   ]
  },
  {
   "cell_type": "code",
   "execution_count": 23,
   "metadata": {},
   "outputs": [
    {
     "name": "stdout",
     "output_type": "stream",
     "text": [
      "3\n"
     ]
    }
   ],
   "source": [
    "# def car_fleet(target, position, speed):\n",
    "#     time = [(target - p)/ s for p,s in sorted(zip(position,speed))]\n",
    "#     fleet = 0\n",
    "#     print(time)\n",
    "#     while len(time) > 1:\n",
    "#         lead = time.pop()\n",
    "#         print(time)\n",
    "#         if lead < time[-1]:\n",
    "#             fleet += 1\n",
    "#         else:\n",
    "#             time[-1] = lead\n",
    "#     return fleet + bool(time)\n",
    "\n",
    "# print(car_fleet(12, [10,8,0,5,3], [2,4,1,1,3]))\n",
    "\n",
    "# TC = O(n)\n",
    "# SC = O(n)\n",
    "\n",
    "#  now usin stack\n",
    "\n",
    "def car_fleet_s(target, position, speed):\n",
    "    time = [(target - p)/ s for p,s in sorted(zip(position,speed))]\n",
    "    stack = []\n",
    "\n",
    "    for t in time[::-1]:\n",
    "        if not stack:\n",
    "            stack.append(t)\n",
    "        elif t > stack[-1]:\n",
    "            stack.append(t)\n",
    "    return len(stack)\n",
    "\n",
    "print(car_fleet_s(12, [10,8,0,5,3], [2,4,1,1,3]))\n",
    "\n",
    "# TC = O(nlogn)\n",
    "# SC = O(n)"
   ]
  },
  {
   "cell_type": "code",
   "execution_count": null,
   "metadata": {},
   "outputs": [],
   "source": [
    "# #include<iostream>\n",
    "\n",
    "# #include <vector>\n",
    "\n",
    "# #include <string>\n",
    "\n",
    "# #include <sstream>\n",
    "\n",
    "# using namespace std;\n",
    "\n",
    "# int occurances(string,char);\n",
    "\n",
    "# int main()\n",
    "\n",
    "# {\n",
    "\n",
    "# string str_Rates=\"5.0,100,5.5,101,6.0,102:L10;5.0,99,5.5,100,6.0,101:L20;\";\n",
    "\n",
    "# //number of occurrence \"column\"\n",
    "\n",
    "# int column = occurances(str_Rates,'L');\n",
    "\n",
    "# //Number of occurrence \"row\"\n",
    "\n",
    "# int rowsval = occurances(str_Rates,',');\n",
    "\n",
    "# //formula\n",
    "\n",
    "# rowsval = ((rowsval / column) + 3)/2 ;\n",
    "\n",
    "# //Number of occurence L+1\n",
    "\n",
    "# column = column + 1;\n",
    "\n",
    "# //Two dimensional array\n",
    "\n",
    "# string array[rowsval][column];\n",
    "\n",
    "# //arrayay value\n",
    "\n",
    "# array[0][0]=\" \";\n",
    "\n",
    "# //start inserting from column_index=1\n",
    "\n",
    "# int column_index=1;\n",
    "\n",
    "# //token string\n",
    "\n",
    "# stringstream ss(str_Rates);\n",
    "\n",
    "# // Iterate value\n",
    "\n",
    "# while( ss.good() && column_index<column )\n",
    "\n",
    "# {\n",
    "\n",
    "# // row index value\n",
    "\n",
    "# int rowIndex=1;\n",
    "\n",
    "# string record_val;\n",
    "\n",
    "# getline( ss, record_val, ';' );\n",
    "\n",
    "# //find the position\n",
    "\n",
    "# int pos = record_val.find(\"L\");\n",
    "\n",
    "# //column index value\n",
    "\n",
    "# array[0][column_index] = record_val.substr(pos + 1);\n",
    "\n",
    "# //substring value\n",
    "\n",
    "# stringstream ss(record_val.substr(0,pos-1));\n",
    "\n",
    "# //Iterate until entire record_val is parsed\n",
    "\n",
    "# while(ss.good())\n",
    "\n",
    "# {\n",
    "\n",
    "# //column_indexstore array value\n",
    "\n",
    "# string attribute_Value;\n",
    "\n",
    "# //First row valuee.g. 5.0\n",
    "\n",
    "# getline( ss, attribute_Value, ',' );\n",
    "\n",
    "# array[rowIndex][0] = attribute_Value;\n",
    "\n",
    "# //Second value e.g. 100\n",
    "\n",
    "# getline( ss, attribute_Value, ',' );\n",
    "\n",
    "# array[rowIndex][column_index] = attribute_Value;\n",
    "\n",
    "# //increment value\n",
    "\n",
    "# rowIndex++;\n",
    "\n",
    "# }\n",
    "\n",
    "# //column index value\n",
    "\n",
    "# column_index++;\n",
    "\n",
    "# }\n",
    "\n",
    "# //display\n",
    "\n",
    "# for(int i=0;i<rowsval;i++)\n",
    "\n",
    "# {\n",
    "\n",
    "# for(int j=0;j<column;j++)\n",
    "\n",
    "# {\n",
    "\n",
    "# cout << array[i][j] << \" \";\n",
    "\n",
    "# }\n",
    "\n",
    "# cout <<\"\\n\";\n",
    "\n",
    "# }\n",
    "\n",
    "# return 0;\n",
    "\n",
    "# }\n",
    "\n",
    "# //find occurrence value\n",
    "\n",
    "# int occurances(string str, char ch1)\n",
    "\n",
    "# {\n",
    "\n",
    "# int cnt=0;\n",
    "\n",
    "# for(int i=0;i<str.length();i++)\n",
    "\n",
    "# {\n",
    "\n",
    "# //increment value\n",
    "\n",
    "# if(str.at(i)==ch1)\n",
    "\n",
    "# cnt++;\n",
    "\n",
    "# }\n",
    "\n",
    "# return cnt;\n",
    "\n",
    "# }"
   ]
  }
 ],
 "metadata": {
  "kernelspec": {
   "display_name": "base",
   "language": "python",
   "name": "python3"
  },
  "language_info": {
   "codemirror_mode": {
    "name": "ipython",
    "version": 3
   },
   "file_extension": ".py",
   "mimetype": "text/x-python",
   "name": "python",
   "nbconvert_exporter": "python",
   "pygments_lexer": "ipython3",
   "version": "3.11.3"
  },
  "orig_nbformat": 4
 },
 "nbformat": 4,
 "nbformat_minor": 2
}
