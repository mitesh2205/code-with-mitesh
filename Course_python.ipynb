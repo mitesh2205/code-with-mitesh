{
 "cells": [
  {
   "cell_type": "markdown",
   "metadata": {},
   "source": [
    "### Arrays and String Interview Questions"
   ]
  },
  {
   "cell_type": "markdown",
   "metadata": {},
   "source": [
    "#### 1. Move zeros to the end of the array"
   ]
  },
  {
   "cell_type": "code",
   "execution_count": 9,
   "metadata": {},
   "outputs": [
    {
     "name": "stdout",
     "output_type": "stream",
     "text": [
      "[1, 3, 12, 0, 0]\n",
      "[1, 3, 12, 0, 0]\n"
     ]
    }
   ],
   "source": [
    "#  Bruteforce approach\n",
    "def move_zero_n(nums):\n",
    "    i = 0\n",
    "    for num in nums:\n",
    "        if num != 0:\n",
    "            nums[i] = num\n",
    "            i+=1\n",
    "   \n",
    "    for i in range(i,len(nums)):\n",
    "        nums[i] = 0\n",
    "    return nums\n",
    "\n",
    "# TC = O(2*n)\n",
    "# SC = O(1)\n",
    "\n",
    "# Optimal Approach\n",
    "\n",
    "def move_zeros(nums):\n",
    "    for i in range(len(nums)):\n",
    "        if nums[i] == 0:\n",
    "            nums.append(nums.pop(i))\n",
    "    return nums\n",
    "\n",
    "# TC = O(n)\n",
    "# SC = O(1)\n",
    "\n",
    "print(move_zeros([0,1,0,3,12]))\n",
    "\n",
    "\n",
    "\n",
    "\n",
    "print(move_zero_n([0,1,0,3,12]))\n",
    "\n"
   ]
  },
  {
   "cell_type": "markdown",
   "metadata": {},
   "source": [
    "#### Boats to save People  "
   ]
  },
  {
   "cell_type": "code",
   "execution_count": 14,
   "metadata": {},
   "outputs": [
    {
     "name": "stdout",
     "output_type": "stream",
     "text": [
      "3\n"
     ]
    }
   ],
   "source": [
    "#  here we are given array of number of people with their weight and we have to find the minimum number of boats required to save all the people with the given limit of weight that a boat can carry\n",
    "def save_people(nums, limit):\n",
    "    # sort the array\n",
    "    nums.sort()\n",
    "    # initialize the two pointers\n",
    "    i = 0\n",
    "    j = len(nums)-1\n",
    "    # initialize the count\n",
    "    count = 0\n",
    "    # iterate over the array\n",
    "    while i <= j:\n",
    "        # checking if the sum of the two pointers is less than or equal to the limit\n",
    "        # nums\n",
    "        if nums[i] + nums[j] <= limit and i != j:\n",
    "            count += 1\n",
    "            i += 1\n",
    "            j -= 1\n",
    "        else:\n",
    "            count += 1\n",
    "            j -= 1\n",
    "    return count\n",
    "\n",
    "# TC = O(nlogn)\n",
    "# SC = O(N)\n",
    "\n",
    "print(save_people([3,2,2,1],3))"
   ]
  },
  {
   "cell_type": "markdown",
   "metadata": {},
   "source": [
    "#### Valid Moutain Array"
   ]
  },
  {
   "cell_type": "code",
   "execution_count": 18,
   "metadata": {},
   "outputs": [
    {
     "name": "stdout",
     "output_type": "stream",
     "text": [
      "False\n",
      "True\n"
     ]
    }
   ],
   "source": [
    "def mountain_array(nums):\n",
    "    # initialize the pointer i\n",
    "    i = 1\n",
    "    while i < len(nums) and nums[i] > nums[i-1]:\n",
    "        i += 1\n",
    "    if i == 1 or i == len(nums):\n",
    "        return False\n",
    "    while i < len(nums) and nums[i] < nums[i-1]:\n",
    "        i += 1\n",
    "    return i == len(nums)\n",
    "\n",
    "\n",
    "# TC = O(n)\n",
    "# SC = O(1)\n",
    "\n",
    "print(mountain_array([0,3]))\n",
    "print(mountain_array([0,1,2,3,4,5,4,3,2,1,0]))"
   ]
  },
  {
   "cell_type": "markdown",
   "metadata": {},
   "source": [
    "#### Container with the most water"
   ]
  },
  {
   "cell_type": "code",
   "execution_count": 20,
   "metadata": {},
   "outputs": [
    {
     "name": "stdout",
     "output_type": "stream",
     "text": [
      "49\n"
     ]
    }
   ],
   "source": [
    "def max_water(height):\n",
    "    area = 0\n",
    "    left = 0\n",
    "    right = len(height)-1\n",
    "\n",
    "    while left < right:\n",
    "        area = max(area, min(height[left], height[right]) * (right-left))\n",
    "        if height[left] < height[right]:\n",
    "            left += 1\n",
    "        else:\n",
    "            right -= 1\n",
    "    return area\n",
    "\n",
    "# TC = O(n)\n",
    "# SC = O(1)\n",
    "\n",
    "print(max_water([1,8,6,2,5,4,8,3,7]))"
   ]
  },
  {
   "cell_type": "markdown",
   "metadata": {},
   "source": [
    "#### Longest Substring without repeating characters"
   ]
  },
  {
   "cell_type": "code",
   "execution_count": 5,
   "metadata": {},
   "outputs": [
    {
     "name": "stdout",
     "output_type": "stream",
     "text": [
      "True\n",
      "abc\n"
     ]
    }
   ],
   "source": [
    "find_allunique_char = lambda s: len(set(s)) == len(s)\n",
    "\n",
    "print(find_allunique_char(\"abcde\"))\n",
    "\n",
    "\n",
    "def longest_substr(s):\n",
    "    array_of_unique = []\n",
    "    for i in range(len(s)):\n",
    "        for j in range(i+1, len(s)):\n",
    "             if find_allunique_char(s[i:j]):\n",
    "                 array_of_unique.append(s[i:j])\n",
    "    return max(array_of_unique, key=len)\n",
    "\n",
    "# TC = O(n^3)\n",
    "# SC = O(n)\n",
    "\n",
    "print(longest_substr(\"abcabcbb\"))"
   ]
  },
  {
   "cell_type": "code",
   "execution_count": 21,
   "metadata": {},
   "outputs": [
    {
     "name": "stdout",
     "output_type": "stream",
     "text": [
      "3\n"
     ]
    }
   ],
   "source": [
    "def substr_without_repeating(s):\n",
    "    mapp = {}\n",
    "    l = 0\n",
    "    r = 0\n",
    "    ans = 0\n",
    "    n = len(s)\n",
    "\n",
    "    while l < n and r < n:\n",
    "        el = s[r]\n",
    "        if el in mapp:\n",
    "            l = max(l, mapp[el]+1)\n",
    "        mapp[el] = r\n",
    "        ans = max(ans, r-l+1)\n",
    "        r += 1\n",
    "\n",
    "    return ans\n",
    "\n",
    "# TC = O(n)\n",
    "# SC = O(n)\n",
    "\n",
    "print(substr_without_repeating(\"abcabcbb\"))"
   ]
  },
  {
   "cell_type": "markdown",
   "metadata": {},
   "source": [
    "## First and Last Position of Element in Sorted Array"
   ]
  },
  {
   "cell_type": "code",
   "execution_count": 11,
   "metadata": {},
   "outputs": [
    {
     "name": "stdout",
     "output_type": "stream",
     "text": [
      "[-1, -1]\n"
     ]
    }
   ],
   "source": [
    "nums = [1,2,3,4,5,5,6,7]\n",
    "target = 5\n",
    "\n",
    "def search_firstposition(nums,target):\n",
    "    left = 0\n",
    "    right = len(nums)-1\n",
    "\n",
    "    while left >= right:\n",
    "        mid = (left+right)//2\n",
    "        if nums[mid] == target:\n",
    "            if mid == 0 or nums[mid-1] != target:\n",
    "                return mid\n",
    "            right = mid-1\n",
    "        elif nums[mid] < target:\n",
    "            left = mid+1\n",
    "        else:\n",
    "            right = mid-1\n",
    "    return -1\n",
    "\n",
    "def search_lastposition(nums,target):\n",
    "    left = 0\n",
    "    right = len(nums)-1\n",
    "\n",
    "    while left >= right:\n",
    "        mid = (left+right)//2\n",
    "        if nums[mid] == target:\n",
    "            if mid == len(nums)-1 or nums[mid+1] != target:\n",
    "                return mid\n",
    "            left = mid+1\n",
    "        elif nums[mid] < target:\n",
    "            left = mid+1\n",
    "        else:\n",
    "            right = mid-1\n",
    "    return -1\n",
    "\n",
    "def search(nums,target):\n",
    "    first = search_firstposition(nums,target)\n",
    "    last = search_lastposition(nums,target)\n",
    "    return [first,last]\n",
    "\n",
    "\n",
    "# TC = O(logn)\n",
    "# SC = O(1)\n",
    "\n",
    "print(search(nums,target))"
   ]
  },
  {
   "cell_type": "markdown",
   "metadata": {},
   "source": [
    "## First Bad Version   "
   ]
  },
  {
   "cell_type": "code",
   "execution_count": null,
   "metadata": {},
   "outputs": [],
   "source": [
    "def first_bad_version(n):\n",
    "    l = 1\n",
    "    r = n\n",
    "    while l < r:\n",
    "        mid = (l+r)/2\n",
    "        if isBadVersion(mid):\n",
    "            r = mid - 1\n",
    "        else:\n",
    "            l = mid + 1\n",
    "    return l\n"
   ]
  },
  {
   "cell_type": "markdown",
   "metadata": {},
   "source": [
    "# Math Questions"
   ]
  },
  {
   "cell_type": "markdown",
   "metadata": {},
   "source": [
    "## Missing Number"
   ]
  },
  {
   "cell_type": "code",
   "execution_count": 3,
   "metadata": {},
   "outputs": [
    {
     "name": "stdout",
     "output_type": "stream",
     "text": [
      "9\n"
     ]
    }
   ],
   "source": [
    "def missing_numbers(nums):\n",
    "    n = len(nums)\n",
    "    total_sum = (n*(n+1))//2\n",
    "    current_sum = sum(nums)\n",
    "    return total_sum - current_sum\n",
    "\n",
    "# TC = O(n)\n",
    "# SC = O(1)\n",
    "print(missing_numbers([0,1,2,3,4,5,6,7,8,10]))"
   ]
  },
  {
   "cell_type": "markdown",
   "metadata": {},
   "source": [
    "## Count Primes"
   ]
  },
  {
   "cell_type": "code",
   "execution_count": 6,
   "metadata": {},
   "outputs": [
    {
     "name": "stdout",
     "output_type": "stream",
     "text": [
      "4\n",
      "4\n"
     ]
    }
   ],
   "source": [
    "def count_primes(num):\n",
    "    count = 0\n",
    "    for i in range(2,num):\n",
    "        if is_prime(i):\n",
    "            count += 1\n",
    "    return count\n",
    "\n",
    "def is_prime(num):\n",
    "    for i in range(2,num):\n",
    "        if num % i == 0:\n",
    "            return False\n",
    "    return True\n",
    "\n",
    "# TC = O(n^2)\n",
    "# SC = O(1)\n",
    "\n",
    "print(count_primes(10))\n",
    "\n",
    "# optimal approach\n",
    "\n",
    "def count_prime_optimal(num):\n",
    "    prime = [True for i in range(num+1)]\n",
    "    prime[0] = False\n",
    "\n",
    "    for i in range(2,num):\n",
    "        if prime[i]:\n",
    "            for j in range(i*i,num,i):\n",
    "                prime[j] = False\n",
    "    count = 0\n",
    "    for i in range(2,num):\n",
    "        if prime[i]:\n",
    "            count += 1\n",
    "    return count\n",
    "\n",
    "# TC = O(nloglogn)\n",
    "\n",
    "print(count_prime_optimal(10))"
   ]
  },
  {
   "cell_type": "markdown",
   "metadata": {},
   "source": [
    "## Single Number Problem"
   ]
  },
  {
   "cell_type": "code",
   "execution_count": 1,
   "metadata": {},
   "outputs": [
    {
     "name": "stdout",
     "output_type": "stream",
     "text": [
      "4\n"
     ]
    }
   ],
   "source": [
    "# 2(a+b) = a+b+a+b\n",
    "# 2(a+b) - (2a+2b+c) = c\n",
    "\n",
    "def single_number(nums):\n",
    "    return 2*sum(set(nums)) - sum(nums)\n",
    "\n",
    "# TC = O(n)\n",
    "# SC = O(n)\n",
    "\n",
    "print(single_number([4,1,2,1,2])) \n"
   ]
  },
  {
   "cell_type": "markdown",
   "metadata": {},
   "source": [
    "### Robot Returning to Origin"
   ]
  },
  {
   "cell_type": "code",
   "execution_count": 2,
   "metadata": {},
   "outputs": [
    {
     "name": "stdout",
     "output_type": "stream",
     "text": [
      "True\n"
     ]
    }
   ],
   "source": [
    "# U- Up D- Down R- Right L- Left\n",
    "\n",
    "def robot_return(s):\n",
    "    mapp = {\n",
    "        \"U\": 1,\n",
    "        \"D\": -1,\n",
    "        \"R\": 1,\n",
    "        \"L\": -1\n",
    "    }\n",
    "    x, y = 0, 0\n",
    "    for i in s:\n",
    "        if i == \"U\" or i == \"D\":\n",
    "            y += mapp[i]\n",
    "        else:\n",
    "            x += mapp[i]\n",
    "    return x == 0 and y == 0\n",
    "\n",
    "# TC = O(n)\n",
    "# SC = O(1)\n",
    "\n",
    "print(robot_return(\"UD\"))"
   ]
  },
  {
   "cell_type": "markdown",
   "metadata": {},
   "source": [
    "### Add Binary Problem"
   ]
  },
  {
   "cell_type": "code",
   "execution_count": 6,
   "metadata": {},
   "outputs": [
    {
     "name": "stdout",
     "output_type": "stream",
     "text": [
      "100\n",
      "10001\n"
     ]
    }
   ],
   "source": [
    "def add_binary(a,b):\n",
    "    return bin(int(a,2) + int(b,2))[2:]\n",
    "\n",
    "# TC = O(n)\n",
    "# SC = O(1)\n",
    "\n",
    "print(add_binary(\"11\",\"1\"))\n",
    "\n",
    "# Using the 2 pointer approach\n",
    "\n",
    "def add_binary_2_pointer(a,b):\n",
    "    result = []\n",
    "    carry = 0\n",
    "    i,j=len(a)-1, len(b)-1\n",
    "\n",
    "    while i>=0 and j >=0 or carry:\n",
    "        total = carry\n",
    "\n",
    "        if i>=0:\n",
    "            total += int(a[i])\n",
    "            i-=1\n",
    "        if j>=0:\n",
    "            total +=int(b[j])\n",
    "            j-=1\n",
    "        result.append(str(total%2))\n",
    "        carry = total//2\n",
    "    return ''.join(reversed(result))\n",
    "\n",
    "print(add_binary_2_pointer(\"1011\",\"0110\"))\n",
    "\n",
    "\n"
   ]
  },
  {
   "cell_type": "markdown",
   "metadata": {},
   "source": [
    "### Two Sum - I"
   ]
  },
  {
   "cell_type": "code",
   "execution_count": 1,
   "metadata": {},
   "outputs": [
    {
     "name": "stdout",
     "output_type": "stream",
     "text": [
      "[0, 1]\n"
     ]
    }
   ],
   "source": [
    "def two_sum(target, nums):\n",
    "    n = len(nums)\n",
    "    m = {}\n",
    "\n",
    "    for i in range(n):\n",
    "        if target - nums[i] in m:\n",
    "            return [m[target-nums[i]], i]\n",
    "        else:\n",
    "            m[nums[i]] = i\n",
    "    return []\n",
    "\n",
    "# TC = O(n)\n",
    "# SC = O(n)\n",
    "\n",
    "print(two_sum(9,[2,7,11,15]))"
   ]
  },
  {
   "cell_type": "markdown",
   "metadata": {},
   "source": [
    "### Contains Duplicate"
   ]
  },
  {
   "cell_type": "code",
   "execution_count": 4,
   "metadata": {},
   "outputs": [
    {
     "name": "stdout",
     "output_type": "stream",
     "text": [
      "True\n",
      "True\n",
      "True\n"
     ]
    }
   ],
   "source": [
    "def contains_duplicate(nums):\n",
    "    return set(nums) != len(nums)\n",
    "\n",
    "# TC = O(n)\n",
    "# SC = O(n)\n",
    "\n",
    "print(contains_duplicate([1,2,3,1]))\n",
    "\n",
    "def contains_duplicate_2(nums):\n",
    "    mapp = {}\n",
    "    for i in nums:\n",
    "        if i in mapp:\n",
    "            return True\n",
    "        else:\n",
    "            mapp[i] = 1\n",
    "    return False\n",
    "\n",
    "# TC = O(n)\n",
    "# SC = O(n)\n",
    "\n",
    "print(contains_duplicate_2([1,2,3,1]))\n",
    "\n",
    "def contains_duplicate_3(nums):\n",
    "    nums.sort()\n",
    "    for i in range(len(nums)-1):\n",
    "        if nums[i] == nums[i+1]:\n",
    "            return True\n",
    "    return False\n",
    "\n",
    "# TC = O(nlogn)\n",
    "# SC = O(1)\n",
    "\n",
    "print(contains_duplicate_3([1,2,3,1]))\n",
    "\n"
   ]
  },
  {
   "cell_type": "code",
   "execution_count": null,
   "metadata": {},
   "outputs": [],
   "source": []
  }
 ],
 "metadata": {
  "kernelspec": {
   "display_name": "base",
   "language": "python",
   "name": "python3"
  },
  "language_info": {
   "codemirror_mode": {
    "name": "ipython",
    "version": 3
   },
   "file_extension": ".py",
   "mimetype": "text/x-python",
   "name": "python",
   "nbconvert_exporter": "python",
   "pygments_lexer": "ipython3",
   "version": "3.11.5"
  },
  "orig_nbformat": 4
 },
 "nbformat": 4,
 "nbformat_minor": 2
}
