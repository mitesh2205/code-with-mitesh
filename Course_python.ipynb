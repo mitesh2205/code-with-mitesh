{
 "cells": [
  {
   "cell_type": "markdown",
   "metadata": {},
   "source": [
    "### Arrays and String Interview Questions"
   ]
  },
  {
   "cell_type": "markdown",
   "metadata": {},
   "source": [
    "#### 1. Move zeros to the end of the array"
   ]
  },
  {
   "cell_type": "code",
   "execution_count": 9,
   "metadata": {},
   "outputs": [
    {
     "name": "stdout",
     "output_type": "stream",
     "text": [
      "[1, 3, 12, 0, 0]\n",
      "[1, 3, 12, 0, 0]\n"
     ]
    }
   ],
   "source": [
    "#  Bruteforce approach\n",
    "def move_zero_n(nums):\n",
    "    i = 0\n",
    "    for num in nums:\n",
    "        if num != 0:\n",
    "            nums[i] = num\n",
    "            i+=1\n",
    "   \n",
    "    for i in range(i,len(nums)):\n",
    "        nums[i] = 0\n",
    "    return nums\n",
    "\n",
    "# TC = O(2*n)\n",
    "# SC = O(1)\n",
    "\n",
    "# Optimal Approach\n",
    "\n",
    "def move_zeros(nums):\n",
    "    for i in range(len(nums)):\n",
    "        if nums[i] == 0:\n",
    "            nums.append(nums.pop(i))\n",
    "    return nums\n",
    "\n",
    "# TC = O(n)\n",
    "# SC = O(1)\n",
    "\n",
    "print(move_zeros([0,1,0,3,12]))\n",
    "\n",
    "\n",
    "\n",
    "\n",
    "print(move_zero_n([0,1,0,3,12]))\n",
    "\n"
   ]
  },
  {
   "cell_type": "markdown",
   "metadata": {},
   "source": [
    "#### Boats to save People  "
   ]
  },
  {
   "cell_type": "code",
   "execution_count": 14,
   "metadata": {},
   "outputs": [
    {
     "name": "stdout",
     "output_type": "stream",
     "text": [
      "3\n"
     ]
    }
   ],
   "source": [
    "#  here we are given array of number of people with their weight and we have to find the minimum number of boats required to save all the people with the given limit of weight that a boat can carry\n",
    "def save_people(nums, limit):\n",
    "    # sort the array\n",
    "    nums.sort()\n",
    "    # initialize the two pointers\n",
    "    i = 0\n",
    "    j = len(nums)-1\n",
    "    # initialize the count\n",
    "    count = 0\n",
    "    # iterate over the array\n",
    "    while i <= j:\n",
    "        # checking if the sum of the two pointers is less than or equal to the limit\n",
    "        # nums\n",
    "        if nums[i] + nums[j] <= limit and i != j:\n",
    "            count += 1\n",
    "            i += 1\n",
    "            j -= 1\n",
    "        else:\n",
    "            count += 1\n",
    "            j -= 1\n",
    "    return count\n",
    "\n",
    "# TC = O(nlogn)\n",
    "# SC = O(N)\n",
    "\n",
    "print(save_people([3,2,2,1],3))"
   ]
  },
  {
   "cell_type": "markdown",
   "metadata": {},
   "source": [
    "#### Valid Moutain Array"
   ]
  },
  {
   "cell_type": "code",
   "execution_count": 18,
   "metadata": {},
   "outputs": [
    {
     "name": "stdout",
     "output_type": "stream",
     "text": [
      "False\n",
      "True\n"
     ]
    }
   ],
   "source": [
    "def mountain_array(nums):\n",
    "    # initialize the pointer i\n",
    "    i = 1\n",
    "    while i < len(nums) and nums[i] > nums[i-1]:\n",
    "        i += 1\n",
    "    if i == 1 or i == len(nums):\n",
    "        return False\n",
    "    while i < len(nums) and nums[i] < nums[i-1]:\n",
    "        i += 1\n",
    "    return i == len(nums)\n",
    "\n",
    "\n",
    "# TC = O(n)\n",
    "# SC = O(1)\n",
    "\n",
    "print(mountain_array([0,3]))\n",
    "print(mountain_array([0,1,2,3,4,5,4,3,2,1,0]))"
   ]
  },
  {
   "cell_type": "markdown",
   "metadata": {},
   "source": [
    "#### Container with the most water"
   ]
  },
  {
   "cell_type": "code",
   "execution_count": 20,
   "metadata": {},
   "outputs": [
    {
     "name": "stdout",
     "output_type": "stream",
     "text": [
      "49\n"
     ]
    }
   ],
   "source": [
    "def max_water(height):\n",
    "    area = 0\n",
    "    left = 0\n",
    "    right = len(height)-1\n",
    "\n",
    "    while left < right:\n",
    "        area = max(area, min(height[left], height[right]) * (right-left))\n",
    "        if height[left] < height[right]:\n",
    "            left += 1\n",
    "        else:\n",
    "            right -= 1\n",
    "    return area\n",
    "\n",
    "# TC = O(n)\n",
    "# SC = O(1)\n",
    "\n",
    "print(max_water([1,8,6,2,5,4,8,3,7]))"
   ]
  },
  {
   "cell_type": "markdown",
   "metadata": {},
   "source": [
    "#### Longest Substring without repeating characters"
   ]
  },
  {
   "cell_type": "code",
   "execution_count": 5,
   "metadata": {},
   "outputs": [
    {
     "name": "stdout",
     "output_type": "stream",
     "text": [
      "True\n",
      "abc\n"
     ]
    }
   ],
   "source": [
    "find_allunique_char = lambda s: len(set(s)) == len(s)\n",
    "\n",
    "print(find_allunique_char(\"abcde\"))\n",
    "\n",
    "\n",
    "def longest_substr(s):\n",
    "    array_of_unique = []\n",
    "    for i in range(len(s)):\n",
    "        for j in range(i+1, len(s)):\n",
    "             if find_allunique_char(s[i:j]):\n",
    "                 array_of_unique.append(s[i:j])\n",
    "    return max(array_of_unique, key=len)\n",
    "\n",
    "# TC = O(n^3)\n",
    "# SC = O(n)\n",
    "\n",
    "print(longest_substr(\"abcabcbb\"))"
   ]
  },
  {
   "cell_type": "code",
   "execution_count": 21,
   "metadata": {},
   "outputs": [
    {
     "name": "stdout",
     "output_type": "stream",
     "text": [
      "3\n"
     ]
    }
   ],
   "source": [
    "def substr_without_repeating(s):\n",
    "    mapp = {}\n",
    "    l = 0\n",
    "    r = 0\n",
    "    ans = 0\n",
    "    n = len(s)\n",
    "\n",
    "    while l < n and r < n:\n",
    "        el = s[r]\n",
    "        if el in mapp:\n",
    "            l = max(l, mapp[el]+1)\n",
    "        mapp[el] = r\n",
    "        ans = max(ans, r-l+1)\n",
    "        r += 1\n",
    "\n",
    "    return ans\n",
    "\n",
    "# TC = O(n)\n",
    "# SC = O(n)\n",
    "\n",
    "print(substr_without_repeating(\"abcabcbb\"))"
   ]
  },
  {
   "cell_type": "markdown",
   "metadata": {},
   "source": [
    "## First and Last Position of Element in Sorted Array"
   ]
  },
  {
   "cell_type": "code",
   "execution_count": 11,
   "metadata": {},
   "outputs": [
    {
     "name": "stdout",
     "output_type": "stream",
     "text": [
      "[-1, -1]\n"
     ]
    }
   ],
   "source": [
    "nums = [1,2,3,4,5,5,6,7]\n",
    "target = 5\n",
    "\n",
    "def search_firstposition(nums,target):\n",
    "    left = 0\n",
    "    right = len(nums)-1\n",
    "\n",
    "    while left >= right:\n",
    "        mid = (left+right)//2\n",
    "        if nums[mid] == target:\n",
    "            if mid == 0 or nums[mid-1] != target:\n",
    "                return mid\n",
    "            right = mid-1\n",
    "        elif nums[mid] < target:\n",
    "            left = mid+1\n",
    "        else:\n",
    "            right = mid-1\n",
    "    return -1\n",
    "\n",
    "def search_lastposition(nums,target):\n",
    "    left = 0\n",
    "    right = len(nums)-1\n",
    "\n",
    "    while left >= right:\n",
    "        mid = (left+right)//2\n",
    "        if nums[mid] == target:\n",
    "            if mid == len(nums)-1 or nums[mid+1] != target:\n",
    "                return mid\n",
    "            left = mid+1\n",
    "        elif nums[mid] < target:\n",
    "            left = mid+1\n",
    "        else:\n",
    "            right = mid-1\n",
    "    return -1\n",
    "\n",
    "def search(nums,target):\n",
    "    first = search_firstposition(nums,target)\n",
    "    last = search_lastposition(nums,target)\n",
    "    return [first,last]\n",
    "\n",
    "\n",
    "# TC = O(logn)\n",
    "# SC = O(1)\n",
    "\n",
    "print(search(nums,target))"
   ]
  },
  {
   "cell_type": "code",
   "execution_count": null,
   "metadata": {},
   "outputs": [],
   "source": []
  }
 ],
 "metadata": {
  "kernelspec": {
   "display_name": "base",
   "language": "python",
   "name": "python3"
  },
  "language_info": {
   "codemirror_mode": {
    "name": "ipython",
    "version": 3
   },
   "file_extension": ".py",
   "mimetype": "text/x-python",
   "name": "python",
   "nbconvert_exporter": "python",
   "pygments_lexer": "ipython3",
   "version": "3.11.3"
  },
  "orig_nbformat": 4
 },
 "nbformat": 4,
 "nbformat_minor": 2
}
