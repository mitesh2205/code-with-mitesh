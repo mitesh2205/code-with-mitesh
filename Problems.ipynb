{
 "cells": [
  {
   "cell_type": "code",
   "execution_count": 1,
   "metadata": {},
   "outputs": [
    {
     "name": "stdout",
     "output_type": "stream",
     "text": [
      "-1\n"
     ]
    }
   ],
   "source": [
    "# Kadanes algorithm\n",
    "\n",
    "arr=[-1,-2,-3,-4]\n",
    "curr=0\n",
    "maxi=float('-inf')\n",
    "for i in arr:\n",
    "    curr+=i\n",
    "    maxi=max(curr,maxi)\n",
    "    if curr<0:\n",
    "        curr=0\n",
    "print(maxi)"
   ]
  },
  {
   "cell_type": "code",
   "execution_count": null,
   "metadata": {},
   "outputs": [],
   "source": [
    "# Odd Even Linked List\n",
    "\n",
    "odd_head = ListNode(None)\n",
    "odd_node = odd_head\n",
    "even_head = ListNode(None)\n",
    "even_node = even_head\n",
    "is_even = True\n",
    "while head:\n",
    "    if is_even:\n",
    "        even_node.next = head\n",
    "        even_node = even_node.next\n",
    "    else:\n",
    "        odd_node.next = head\n",
    "        odd_node = odd_node.next\n",
    "    head = head.next\n",
    "    is_even = not is_even\n",
    "odd_node.next = even_head.next\n",
    "even_node.next = None\n",
    "return odd_head.next"
   ]
  },
  {
   "cell_type": "code",
   "execution_count": 2,
   "metadata": {},
   "outputs": [],
   "source": [
    "# Linked List Cycle II   \n",
    "# Given the head of a linked list, return the node where the cycle begins. If there is no cycle, return null.\n",
    "\n",
    "# There is a cycle in a linked list if there is some node in the list that can be reached again by continuously following the next pointer. Internally, pos is used to denote the index of the node that tail's next pointer is connected to (0-indexed). It is -1 if there is no cycle. Note that pos is not passed as a parameter.\n",
    "\n",
    "def detectCycle(self, head: ListNode) -> ListNode:\n",
    "        slow = fast = head\n",
    "        while fast and fast.next:\n",
    "            slow = slow.next\n",
    "            fast = fast.next.next\n",
    "            if slow == fast:\n",
    "                break\n",
    "        else:\n",
    "            return None\n",
    "        slow = head\n",
    "        while slow != fast:\n",
    "            slow = slow.next\n",
    "            fast = fast.next\n",
    "        return slow"
   ]
  },
  {
   "cell_type": "code",
   "execution_count": 1,
   "metadata": {},
   "outputs": [
    {
     "name": "stdout",
     "output_type": "stream",
     "text": [
      "3\n"
     ]
    }
   ],
   "source": [
    "# coin change problem\n",
    "\n",
    "def coinChange(coins, amount):\n",
    "    dp = [0] + [amount + 1] * amount\n",
    "    for i in range(amount):\n",
    "        for coin in coins:\n",
    "            if coin <= i + 1:\n",
    "                dp[i + 1] = min(dp[i + 1], dp[i + 1 - coin] + 1)\n",
    "    return dp[amount] if dp[amount] <= amount else -1\n",
    "\n",
    "print(coinChange([1,2,5],11))"
   ]
  },
  {
   "cell_type": "code",
   "execution_count": 2,
   "metadata": {},
   "outputs": [
    {
     "name": "stdout",
     "output_type": "stream",
     "text": [
      "dict_values([['eat', 'tea', 'ate'], ['tan', 'nat'], ['bat']])\n"
     ]
    }
   ],
   "source": [
    "# group anagram problem\n",
    "\n",
    "def groupAnagrams(strs):\n",
    "    d={}\n",
    "    for i in strs:\n",
    "        key=tuple(sorted(i))\n",
    "        d[key]=d.get(key,[])+[i]\n",
    "    return d.values()\n",
    "\n",
    "print(groupAnagrams([\"eat\", \"tea\", \"tan\", \"ate\", \"nat\", \"bat\"]))\n",
    "\n",
    "#tc:O(nklogk) sc:O(nk)\n",
    "\n",
    "def groupAnagrams(strs):\n",
    "    d={}\n",
    "\n",
    "    for i in strs:\n",
    "        count = [0] * 26\n",
    "        for j in i:\n",
    "            count[ord(j)-ord('a')]+=1\n",
    "        if tuple(count) in d:\n",
    "            d[tuple(count)].append(i) \n",
    "        else:\n",
    "            d[tuple(count)]=[i]\n",
    "    return d.values()"
   ]
  },
  {
   "cell_type": "code",
   "execution_count": 1,
   "metadata": {},
   "outputs": [
    {
     "data": {
      "text/plain": [
       "8"
      ]
     },
     "execution_count": 1,
     "metadata": {},
     "output_type": "execute_result"
    }
   ],
   "source": [
    "# climbing stair case\n",
    "\n",
    "def climbing(n):\n",
    "    if n <= 3:\n",
    "        return n\n",
    "    a,b = 2,3\n",
    "    for i in range(4,n+1):\n",
    "        a,b = b, a+b\n",
    "    \n",
    "    return b\n",
    "climbing(5)\n"
   ]
  },
  {
   "cell_type": "code",
   "execution_count": 4,
   "metadata": {},
   "outputs": [
    {
     "name": "stdout",
     "output_type": "stream",
     "text": [
      "5\n"
     ]
    }
   ],
   "source": [
    "# Best Time to buy and sell stock problem\n",
    "\n",
    "def maxProfit(prices):\n",
    "    max_val = 0\n",
    "    i,j = 0,1\n",
    "    while j < len(prices):\n",
    "        if prices[j] > prices[i]:\n",
    "            max_val = max(max_val, prices[j] - prices[i])\n",
    "        else:\n",
    "            i = j\n",
    "        j += 1\n",
    "    return max_val\n",
    "\n",
    "print(maxProfit([7,1,5,3,6,4]))\n"
   ]
  },
  {
   "cell_type": "code",
   "execution_count": 1,
   "metadata": {},
   "outputs": [
    {
     "data": {
      "text/plain": [
       "4"
      ]
     },
     "execution_count": 1,
     "metadata": {},
     "output_type": "execute_result"
    }
   ],
   "source": [
    "# House Robber\n",
    "\n",
    "def rob(nums):\n",
    "    if len(nums) == 1:\n",
    "        return nums[0]\n",
    "    dp = [0] * len(nums)\n",
    "    dp[0] = nums[0]\n",
    "    dp[1] = max(nums[0], nums[1])\n",
    "    for i in range(2, len(nums)):\n",
    "        dp[i] = max(dp[i-1], dp[i-2] + nums[i])\n",
    "    return dp[-1]\n",
    "\n",
    "rob([1,2,3,1])"
   ]
  },
  {
   "cell_type": "code",
   "execution_count": 2,
   "metadata": {},
   "outputs": [
    {
     "data": {
      "text/plain": [
       "1"
      ]
     },
     "execution_count": 2,
     "metadata": {},
     "output_type": "execute_result"
    }
   ],
   "source": [
    "# house robber 2\n",
    "\n",
    "def rob(nums):  \n",
    "    if len(nums) == 1:\n",
    "        return nums[0]\n",
    "    def helper(nums):\n",
    "        if len(nums) == 1:\n",
    "            return nums[0]\n",
    "        dp = [0] * len(nums)\n",
    "        dp[0] = nums[0]\n",
    "        dp[1] = max(nums[0], nums[1])\n",
    "        for i in range(2, len(nums)):\n",
    "            dp[i] = max(dp[i-1], dp[i-2] + nums[i])\n",
    "        return dp[-1]\n",
    "    return max(helper(nums[1:]), helper(nums[:-1]))\n",
    "\n",
    "rob([1])\n"
   ]
  },
  {
   "cell_type": "code",
   "execution_count": null,
   "metadata": {},
   "outputs": [],
   "source": [
    "# House Robber 3 problem statement:\n",
    "\n",
    "\n",
    "def rob(root):\n",
    "    def helper(root):\n",
    "        if not root:\n",
    "            return 0,0\n",
    "        left = helper(root.left)\n",
    "        right = helper(root.right)\n",
    "        return max(left) + max(right), root.val + left[0] + right[0]\n",
    "    return max(helper(root))\n"
   ]
  },
  {
   "cell_type": "code",
   "execution_count": 13,
   "metadata": {},
   "outputs": [
    {
     "name": "stdout",
     "output_type": "stream",
     "text": [
      "43444\n"
     ]
    }
   ],
   "source": [
    "# maximum subarray\n",
    "\n",
    "def maxSubArray(nums):\n",
    "    if not nums:\n",
    "        return 0\n",
    "    curr_sum = max_sum = nums[0]\n",
    "    for i in range(1, len(nums)):\n",
    "        curr_sum = max(nums[i], curr_sum + nums[i])\n",
    "        max_sum = max(curr_sum, max_sum)\n",
    "    return max_sum\n",
    "\n",
    "# solve maximum subarray problem with dp\n",
    "\n",
    "def maxSubArray(nums):\n",
    "    if not nums:\n",
    "        return 0\n",
    "    dp = [0] * len(nums)\n",
    "    dp[0] = nums[0]\n",
    "    for i in range(1, len(nums)):\n",
    "        dp[i] = max(nums[i], dp[i-1] + nums[i])\n",
    "    return max(dp)"
   ]
  },
  {
   "cell_type": "code",
   "execution_count": null,
   "metadata": {},
   "outputs": [],
   "source": [
    "# maximum product subarray\n",
    "\n",
    "def maxProduct(nums):\n",
    "    if not nums:\n",
    "        return 0\n",
    "    max_prod = min_prod = res = nums[0]\n",
    "    for i in range(1, len(nums)):\n",
    "        curr_max = max_prod\n",
    "        max_prod = max(nums[i], max_prod * nums[i], min_prod * nums[i])\n",
    "        min_prod = min(nums[i], curr_max * nums[i], min_prod * nums[i])\n",
    "        res = max(max_prod, res)\n",
    "    return res\n",
    "\n",
    "# use dp to solve maxProduct subarray problem\n",
    "\n",
    "def maxProduct(nums):\n",
    "    if not nums:\n",
    "        return 0\n",
    "    dp = [[0] * 2 for _ in range(len(nums))]\n",
    "    dp[0][0] = dp[0][1] = nums[0]\n",
    "    for i in range(1, len(nums)):\n",
    "        dp[i][0] = max(nums[i], dp[i-1][0] * nums[i], dp[i-1][1] * nums[i])\n",
    "        dp[i][1] = min(nums[i], dp[i-1][0] * nums[i], dp[i-1][1] * nums[i])\n",
    "    return max([max(i) for i in dp])"
   ]
  },
  {
   "cell_type": "code",
   "execution_count": 6,
   "metadata": {},
   "outputs": [
    {
     "name": "stdout",
     "output_type": "stream",
     "text": [
      "3\n"
     ]
    }
   ],
   "source": [
    "# longest common subsequence\n",
    "\n",
    "def longestCommonSubsequence(text1, text2):\n",
    "    m, n = len(text1), len(text2)\n",
    "    dp = [ [0] * (n+1) for _ in range(m+1)]\n",
    "    for i in range(1,m+1):\n",
    "        for j in range(1,n+1):\n",
    "            if text1[i-1] == text2[j-1]:\n",
    "                dp[i][j] = dp[i-1][j-1] + 1\n",
    "            else:\n",
    "                dp[i][j] = max(dp[i-1][j], dp[i][j-1])\n",
    "    return dp[m][n]\n",
    "\n",
    "\n",
    "print(longestCommonSubsequence(\"abcde\", \"ace\"))\n"
   ]
  },
  {
   "cell_type": "code",
   "execution_count": 2,
   "metadata": {},
   "outputs": [],
   "source": [
    "# merge two sorted list\n",
    "\n",
    "def mergeTwoLists(l1, l2):\n",
    "    dummy = ListNode(0)\n",
    "    head = dummy\n",
    "    while l1 and l2:\n",
    "        if l1.val < l2.val:\n",
    "            head.next = l1\n",
    "            l1 = l1.next\n",
    "        else:\n",
    "            head.next = l2\n",
    "            l2 = l2.next\n",
    "        head = head.next\n",
    "    if l1:\n",
    "        head.next = l1\n",
    "    if l2:\n",
    "        head.next = l2\n",
    "    return dummy.next\n",
    "\n",
    "    "
   ]
  },
  {
   "cell_type": "code",
   "execution_count": 3,
   "metadata": {},
   "outputs": [],
   "source": [
    "# middle of the linked list\n",
    "\n",
    "def middle_link_list(head):\n",
    "    slow = fast = head\n",
    "    while fast and fast.next:\n",
    "        slow = slow.next\n",
    "        fast = fast.next.next\n",
    "    return slow"
   ]
  },
  {
   "cell_type": "code",
   "execution_count": 3,
   "metadata": {},
   "outputs": [],
   "source": [
    "# Binary tree Level order traversal\n",
    "\n",
    "def level_order_traversal():\n",
    "    if not root: # if root is None\n",
    "        return []\n",
    "    res = [] # result\n",
    "    q = collections.deque() # queue\n",
    "    q.append(root) # append root to queue\n",
    "    while q: # while queue is not empty\n",
    "        val = [] # list to store values of nodes in a level\n",
    "        for i in range(len(q)): # for each node in a level\n",
    "            node = q.popleft() # pop the node from queue\n",
    "            val.append(node.val) # append the value of the node to val\n",
    "            if node.left: # if left child exists\n",
    "                q.append(node.left) # append left child to queue\n",
    "            if node.right: # if right child exists\n",
    "                q.append(node.right) # append right child to queue\n",
    "        res.append(val) # append val to result\n",
    "    return res # return result\n"
   ]
  },
  {
   "cell_type": "code",
   "execution_count": 4,
   "metadata": {},
   "outputs": [
    {
     "name": "stdout",
     "output_type": "stream",
     "text": [
      "5\n"
     ]
    }
   ],
   "source": [
    "# Longest Palindromic Substring\n",
    "\n",
    "def longestPalindrome(s):\n",
    "    count = {}\n",
    "    for c in s: count[c] = count.get(c, 0) + 1\n",
    "\n",
    "    result, odd_found = 0, False\n",
    "\n",
    "    for _, c in count.items():\n",
    "        if c %2 == 0: result+= c\n",
    "        else:\n",
    "            odd_found = True\n",
    "            result += c - 1\n",
    "    if odd_found: result += 1\n",
    "    return result\n",
    "\n",
    "print(longestPalindrome(\"babab\"))"
   ]
  },
  {
   "cell_type": "code",
   "execution_count": 5,
   "metadata": {},
   "outputs": [
    {
     "name": "stdout",
     "output_type": "stream",
     "text": [
      "3\n"
     ]
    }
   ],
   "source": [
    "# Palindromic Substrings\n",
    "\n",
    "def countSubstrings(s):\n",
    "    n = len(s)\n",
    "    dp = [[False] * n for _ in range(n)]\n",
    "    count = 0\n",
    "    for i in range(n-1, -1, -1):\n",
    "        for j in range(i, n):\n",
    "            if s[i] == s[j] and (j - i < 2 or dp[i+1][j-1]):\n",
    "                dp[i][j] = True\n",
    "                count += 1\n",
    "    return count\n",
    "\n",
    "print(countSubstrings(\"abc\"))"
   ]
  },
  {
   "cell_type": "code",
   "execution_count": null,
   "metadata": {},
   "outputs": [],
   "source": [
    "# pivot index\n",
    "\n",
    "def pivotIndex(nums):\n",
    "    total = sum(nums)\n",
    "    left_sum = 0\n",
    "    for i, num in enumerate(nums):\n",
    "        if left_sum == total - left_sum - num:\n",
    "            return i\n",
    "        left_sum += num\n",
    "    return -1"
   ]
  },
  {
   "cell_type": "code",
   "execution_count": null,
   "metadata": {},
   "outputs": [],
   "source": [
    "# minimum cost of climbing stairs\n",
    "\n",
    "def minCostClimbingStairs(cost):\n",
    "    n = len(cost)\n",
    "    dp = [0] * (n+1)\n",
    "    for i in range(2, n+1):\n",
    "        dp[i] = min(dp[i-1] + cost[i-1], dp[i-2] + cost[i-2])\n",
    "    return dp[-1]"
   ]
  },
  {
   "cell_type": "code",
   "execution_count": null,
   "metadata": {},
   "outputs": [],
   "source": [
    "# daily temperature\n",
    "\n",
    "def dailyTemperatures(T):\n",
    "    res = [0] * len(T)\n",
    "    stack = []\n",
    "    for i in range(len(T)):\n",
    "        while stack and T[i] > T[stack[-1]]:\n",
    "            cur = stack.pop()\n",
    "            res[cur] = i - cur\n",
    "        stack.append(i)\n",
    "    return res"
   ]
  },
  {
   "cell_type": "code",
   "execution_count": 3,
   "metadata": {},
   "outputs": [
    {
     "name": "stdout",
     "output_type": "stream",
     "text": [
      "1\n"
     ]
    }
   ],
   "source": [
    "# number of islands\n",
    "\n",
    "def numIslands(grid):\n",
    "    if not grid:\n",
    "        return 0\n",
    "    m, n = len(grid), len(grid[0])\n",
    "    count = 0\n",
    "    for i in range(m):\n",
    "        for j in range(n):\n",
    "            if grid[i][j] == '1':\n",
    "                count += 1\n",
    "                dfs(grid, i, j)\n",
    "    return count\n",
    "\n",
    "def dfs(grid, i, j):\n",
    "    if i < 0 or i >= len(grid) or j < 0 or j >= len(grid[0]) or grid[i][j] != '1': # if out of bound or not 1,\n",
    "        return\n",
    "    grid[i][j] = '0'\n",
    "    dfs(grid, i+1, j)\n",
    "    dfs(grid, i-1, j)\n",
    "    dfs(grid, i, j+1)\n",
    "    dfs(grid, i, j-1)\n",
    "\n",
    "\n",
    "print(numIslands([[\"1\",\"1\",\"1\",\"1\",\"0\"],[\"1\",\"1\",\"0\",\"1\",\"0\"],[\"1\",\"1\",\"0\",\"0\",\"0\"],[\"0\",\"0\",\"0\",\"0\",\"0\"]]))"
   ]
  },
  {
   "cell_type": "code",
   "execution_count": 5,
   "metadata": {},
   "outputs": [
    {
     "name": "stdout",
     "output_type": "stream",
     "text": [
      "['i', 'love']\n"
     ]
    }
   ],
   "source": [
    "# top k frequent words\n",
    "import collections\n",
    "\n",
    "def topKFrequent(words, k):\n",
    "    count = collections.Counter(words)\n",
    "    candidates = list(count.keys())\n",
    "    candidates.sort(key = lambda w: (-count[w], w))\n",
    "    key = lambda w: (-count[w], w)\n",
    "    return candidates[:k]\n",
    "\n",
    "print(topKFrequent([\"i\", \"love\", \"leetcode\", \"i\", \"love\", \"coding\"], 2))\n",
    "\n",
    "# top frequest words using heap\n",
    "\n",
    "def topKFrequent(words, k):\n",
    "    count = collections.Counter(words)\n",
    "    heap = [(-freq, word) for word, freq in count.items()]\n",
    "    heapq.heapify(heap)\n",
    "    return [heapq.heappop(heap)[1] for _ in range(k)]\n"
   ]
  },
  {
   "cell_type": "code",
   "execution_count": 7,
   "metadata": {},
   "outputs": [
    {
     "name": "stdout",
     "output_type": "stream",
     "text": [
      "[1, 2]\n"
     ]
    }
   ],
   "source": [
    "# top k frequent elements\n",
    "\n",
    "import collections\n",
    "import heapq\n",
    "\n",
    "def topKFrequent(nums, k):\n",
    "    count = collections.Counter(nums)\n",
    "    return heapq.nlargest(k, count.keys(), key=count.get)\n",
    "\n",
    "print(topKFrequent([1,1,1,2,2,3], 2))"
   ]
  },
  {
   "cell_type": "code",
   "execution_count": null,
   "metadata": {},
   "outputs": [],
   "source": [
    "# min stack\n",
    "\n",
    "class MinStack:\n",
    "    \n",
    "        def __init__(self):\n",
    "            \"\"\"\n",
    "            initialize your data structure here.\n",
    "            \"\"\"\n",
    "            self.stack = [] # initialize the stack\n",
    "            self.min_stack = [float('inf')] # initialize the minimum stack with infinity\n",
    "    \n",
    "        def push(self, x: int) -> None:\n",
    "            self.stack.append(x)\n",
    "            self.min_stack.append(min(self.min_stack[-1], x)) # append the minimum of the current minimum and the new element\n",
    "    \n",
    "        def pop(self) -> None:\n",
    "            self.stack.pop()\n",
    "            self.min_stack.pop()\n",
    "    \n",
    "        def top(self) -> int:\n",
    "            return self.stack[-1]\n",
    "    \n",
    "        def getMin(self) -> int:\n",
    "            return self.min_stack[-1]"
   ]
  },
  {
   "cell_type": "code",
   "execution_count": null,
   "metadata": {},
   "outputs": [],
   "source": [
    "# Happy Number\n",
    "\n",
    "def isHappy(n):\n",
    "    seen = set()\n",
    "    while n != 1 and n not in seen:\n",
    "        seen.add(n)\n",
    "        n = sum(int(i) ** 2 for i in str(n))\n",
    "    return n == 1"
   ]
  },
  {
   "cell_type": "code",
   "execution_count": null,
   "metadata": {},
   "outputs": [],
   "source": [
    "# sprial matrix\n",
    "\n",
    "def spiralOrder(matrix):\n",
    "    res = []\n",
    "    left, right = 0, len(matrix[0])\n",
    "    top, bottom = 0, len(matrix)\n",
    "    while left < right and top < bottom:\n",
    "        for i in range(left, right):\n",
    "            res.append(matrix[top][i])\n",
    "        top += 1\n",
    "        for i in range(top, bottom):\n",
    "            res.append(matrix[i][right-1])\n",
    "        right -= 1\n",
    "\n",
    "        if not (top < bottom and left < right):\n",
    "            break\n",
    "\n",
    "        for i in range(right - 1, left-1, -1):\n",
    "            res.append(matrix[bottom-1][i])\n",
    "        bottom -= 1\n",
    "\n",
    "        for i in range(bottom - 1, top - 1, -1):\n",
    "            res.append(matrix[i][left])\n",
    "\n",
    "        left += 1\n",
    "    return res\n",
    "\n"
   ]
  },
  {
   "cell_type": "code",
   "execution_count": 9,
   "metadata": {},
   "outputs": [
    {
     "name": "stdout",
     "output_type": "stream",
     "text": [
      "[1, -1, -1, -1, -1]\n"
     ]
    }
   ],
   "source": [
    "# findBall\n",
    "\n",
    "def findBall(grid):\n",
    "    m, n = len(grid), len(grid[0])\n",
    "    res = []\n",
    "    for j in range(n):\n",
    "        i, col = 0, j\n",
    "        while i < m:\n",
    "            if grid[i][col] == 1 and (col == n - 1 or grid[i][col + 1] == -1):\n",
    "                res.append(-1)\n",
    "                break\n",
    "            elif grid[i][col] == -1 and (col == 0 or grid[i][col - 1] == 1):\n",
    "                res.append(-1)\n",
    "                break\n",
    "            elif grid[i][col] == 1:\n",
    "                col += 1\n",
    "            elif grid[i][col] == -1:\n",
    "                col -= 1\n",
    "            i += 1\n",
    "        else:\n",
    "            res.append(col)\n",
    "    return res\n",
    "\n",
    "print(findBall([[1,1,1,-1,-1],[1,1,1,-1,-1],[-1,-1,-1,1,1],[1,1,1,1,-1],[-1,-1,-1,-1,-1]]))\n",
    "\n",
    "# findball with dfs\n",
    "\n",
    "def findBall(grid):\n",
    "    m, n = len(grid), len(grid[0])\n",
    "    res = []\n",
    "    for j in range(n):\n",
    "        res.append(dfs(grid, 0, j))\n",
    "    return res\n",
    "\n",
    "def dfs(grid, i, j):\n",
    "    if i == len(grid):\n",
    "        return j\n",
    "    if j == 0 and grid[i][j] == -1:\n",
    "        return -1\n",
    "    if j == len(grid[0]) - 1 and grid[i][j] == 1:\n",
    "        return -1\n",
    "    if grid[i][j] == 1 and grid[i][j+1] == -1:\n",
    "        return -1\n",
    "    if grid[i][j] == -1 and grid[i][j-1] == 1:\n",
    "        return -1\n",
    "    return dfs(grid, i+1, j+grid[i][j])\n"
   ]
  },
  {
   "cell_type": "code",
   "execution_count": null,
   "metadata": {},
   "outputs": [],
   "source": [
    "# Longest Common Prefix\n",
    "\n",
    "def longestCommonPrefix(strs):\n",
    "    if not strs:\n",
    "        return \"\"\n",
    "    prefix = strs[0]\n",
    "    for i in range(1, len(strs)):\n",
    "        while strs[i].find(prefix) != 0:\n",
    "            prefix = prefix[:-1]\n",
    "            if not prefix:\n",
    "                return \"\"\n",
    "    return prefix"
   ]
  },
  {
   "cell_type": "code",
   "execution_count": 13,
   "metadata": {},
   "outputs": [
    {
     "name": "stdout",
     "output_type": "stream",
     "text": [
      "[[7, 4, 1], [8, 5, 2], [9, 6, 3]]\n"
     ]
    }
   ],
   "source": [
    "# rotate image\n",
    "\n",
    "def rotate(matrix):\n",
    "    l, r = 0, len(matrix) - 1\n",
    "\n",
    "    while l < r:\n",
    "        for i in range(r - l):\n",
    "            top, bottom = l, r\n",
    "            topleft = matrix[top][l + i]\n",
    "\n",
    "            matrix[top][l + i] = matrix[bottom - i][l]\n",
    "            matrix[bottom - i][l] = matrix[bottom][r - i]\n",
    "            matrix[bottom][r - i] = matrix[top + i][r]\n",
    "            matrix[top+i][r] = topleft\n",
    "        l += 1\n",
    "        r -= 1\n",
    "    return matrix\n",
    "\n",
    "print( rotate([[1,2,3],[4,5,6],[7,8,9]]))\n",
    "\n"
   ]
  },
  {
   "cell_type": "code",
   "execution_count": 14,
   "metadata": {},
   "outputs": [
    {
     "name": "stdout",
     "output_type": "stream",
     "text": [
      "2\n"
     ]
    }
   ],
   "source": [
    "# Number of provinces\n",
    "\n",
    "def findCircleNum(isConnected):\n",
    "    n = len(isConnected)\n",
    "    visited = [False] * n\n",
    "    count = 0\n",
    "    for i in range(n):\n",
    "        if not visited[i]:\n",
    "            dfs(isConnected, visited, i)\n",
    "            count += 1\n",
    "    return count\n",
    "\n",
    "def dfs(isConnected, visited, i):\n",
    "    for j in range(len(isConnected)):\n",
    "        if isConnected[i][j] == 1 and not visited[j]:\n",
    "            visited[j] = True\n",
    "            dfs(isConnected, visited, j)\n",
    "        \n",
    "print(findCircleNum([[1,1,0],[1,1,0],[0,0,1]]))"
   ]
  },
  {
   "cell_type": "code",
   "execution_count": null,
   "metadata": {},
   "outputs": [],
   "source": [
    "# sort list\n",
    "\n",
    "def sortList(head):\n",
    "    if not head or not head.next:\n",
    "        return head\n",
    "    slow, fast = head, head.next\n",
    "    while fast and fast.next:\n",
    "        slow = slow.next\n",
    "        fast = fast.next.next\n",
    "    mid = slow.next\n",
    "    slow.next = None\n",
    "    left = sortList(head)\n",
    "    right = sortList(mid)\n",
    "    return merge(left, right)\n",
    "\n",
    "def merge(left, right):\n",
    "    dummy = ListNode(0)\n",
    "    cur = dummy\n",
    "    while left and right:\n",
    "        if left.val < right.val:\n",
    "            cur.next = left\n",
    "            left = left.next\n",
    "        else:\n",
    "            cur.next = right\n",
    "            right = right.next\n",
    "        cur = cur.next\n",
    "    cur.next = left if left else right\n",
    "    return dummy.next"
   ]
  },
  {
   "cell_type": "code",
   "execution_count": null,
   "metadata": {},
   "outputs": [],
   "source": [
    "#Longest palindrome by concatenating two letters words\n",
    "dict1 = {}\n",
    "set_words = set(words)\n",
    "\n",
    "for i in set_words:\n",
    "    if i[::-1] in set_words: \n",
    "        dict1[i] = words.count(i)  # this can be done with collection counter as well\n",
    "\n",
    "\n",
    "count = 0\n",
    "for key,value in dict1.items(): # iterate through the dictionary\n",
    "    reverse = key[::-1] # reverse the key\n",
    "    value2 = dict1[reverse] # get the value of the reverse key\n",
    "    final_val = min(value,value2) # get the minimum value\n",
    "    dict1[reverse] = final_val # update the value of the reverse key\n",
    "    dict1[key] = final_val # update the value of the key\n",
    "    if key == key[::-1]: # if the key is a palindrome\n",
    "        if value%2!=0 and count == 0: # if the value is odd and count is 0\n",
    "            count+=1 # increment the count\n",
    "        elif value%2!=0 and count == 1: # if the value is odd and count is 1\n",
    "            dict1[key]=dict1[key]-1\n",
    "output =0 # initialize the output\n",
    "\n",
    "for key,value in dict1.items(): # iterate through the dictionary\n",
    "    output+=value # add the value to the output\n",
    "    \n",
    "return output*2         # return the output*2"
   ]
  },
  {
   "cell_type": "code",
   "execution_count": null,
   "metadata": {},
   "outputs": [],
   "source": [
    "# Task Scheduler\n",
    "\n",
    "def leastInterval(tasks, n):\n",
    "    if n == 0:\n",
    "        return len(tasks)\n",
    "    task_count = collections.Counter(tasks)\n",
    "    max_count = max(task_count.values())\n",
    "    max_count_tasks = sum(1 for task in task_count.values() if  task == max_count)\n",
    "    return max(len(tasks), (max_count - 1) * (n + 1) + max_count_tasks)\n",
    "\n",
    "#TC = O(n) SC = O(1)\n",
    "\n",
    "# with heap\n",
    "\n",
    "def leastInterval(tasks, n):\n",
    "    count =Counter(tasks)\n",
    "    max_heap = [-cnt for cnt in count.values()]\n",
    "    heapq.heapify(max_heap)\n",
    "\n",
    "    time = 0\n",
    "    q = deque()\n",
    "    while max_heap or q:\n",
    "        time += 1\n",
    "        if max_heap:\n",
    "            cnt = 1 + heapq.heappop(max_heap)\n",
    "            if cnt:\n",
    "                q.append([cnt, time + n])\n",
    "        if q and q[0][1] == time:\n",
    "            heapq.heappush(max_heap, q.popleft()[0])\n",
    "    return time\n",
    "    \n",
    "\n"
   ]
  },
  {
   "cell_type": "code",
   "execution_count": null,
   "metadata": {},
   "outputs": [],
   "source": [
    "# flood fill\n",
    "\n",
    "def floodFill(image, sr, sc, newColor):\n",
    "    if image[sr][sc] == newColor:\n",
    "        return image\n",
    "    color = image[sr][sc]\n",
    "    m, n = len(image), len(image[0])\n",
    "    def dfs(i, j):\n",
    "        if i < 0 or i >= m or j < 0 or j >= n or image[i][j] != color:\n",
    "            return\n",
    "        image[i][j] = newColor\n",
    "        dfs(i+1, j)\n",
    "        dfs(i-1, j)\n",
    "        dfs(i, j+1)\n",
    "        dfs(i, j-1)\n",
    "    dfs(sr, sc)\n",
    "    return image"
   ]
  },
  {
   "cell_type": "code",
   "execution_count": null,
   "metadata": {},
   "outputs": [],
   "source": [
    "# Lowest Common Ancestor of a Binary Search Tree\n",
    "\n",
    "def lowestCommonAncestor(root, p, q):\n",
    "    if root ==None or p == root or q == root:\n",
    "        return root\n",
    "\n",
    "    left, right = self.lowestCommonAncestor(root.left, p, q), self.lowestCommonAncestor(root.right, p, q)\n",
    "\n",
    "    if left == None:\n",
    "        return right\n",
    "    elif right == None:\n",
    "        return left\n",
    "    else:\n",
    "        return root\n",
    "        "
   ]
  },
  {
   "cell_type": "code",
   "execution_count": null,
   "metadata": {},
   "outputs": [],
   "source": [
    "# Invert Binary tree\n",
    "\n",
    "def invertTree(self, root):\n",
    "    if not root:\n",
    "        return None\n",
    "\n",
    "    root.left, root.right = root.right, root.left\n",
    "    self.invertTree(root.left)\n",
    "    self.invertTree(root.right)\n",
    "    return root\n",
    "    "
   ]
  },
  {
   "cell_type": "code",
   "execution_count": null,
   "metadata": {},
   "outputs": [],
   "source": [
    "# level order traversal 2\n",
    "\n",
    "def levelOrderBottom(self, root):\n",
    "    res = []\n",
    "    q = collections.deque([root])\n",
    "    while q:\n",
    "        level = []\n",
    "        for _ in range(len(q)):\n",
    "            node = q.popleft()\n",
    "            if node:\n",
    "                level.append(node.val)\n",
    "                q.append(node.left)\n",
    "                q.append(node.right)\n",
    "        if level:\n",
    "            res.append(level)\n",
    "    return res[::-1]\n",
    "    \n"
   ]
  },
  {
   "cell_type": "code",
   "execution_count": null,
   "metadata": {},
   "outputs": [],
   "source": [
    "# path sum\n",
    "\n",
    "def hasPathSum(self, root, sum):\n",
    "    if not root:\n",
    "        return False\n",
    "    if not root.left and not root.right and root.val == sum:\n",
    "        return True\n",
    "    return self.hasPathSum(root.left, sum - root.val) or self.hasPathSum(root.right, sum - root.val)\n",
    "\n",
    "# path sum 2\n",
    "\n",
    "def pathSum(self, root, sum):\n",
    "    output = []\n",
    "\n",
    "    def dfs(node, path, total):\n",
    "        total+= node.val\n",
    "        tmp = path + [node.val]\n",
    "        if not node.right:\n",
    "            dfs(node.right, tmp, total)\n",
    "        if not node.left:\n",
    "            dfs(node.left, tmp, total)\n",
    "        if not node.left and not node.right and total == sum:\n",
    "            output.append(tmp)\n",
    "    if root:\n",
    "        dfs(root, [], 0)\n",
    "    return output"
   ]
  },
  {
   "cell_type": "code",
   "execution_count": null,
   "metadata": {},
   "outputs": [],
   "source": [
    "# search in rotated sorted array\n",
    "\n",
    "def search(self, nums, target):\n",
    "    if not nums:\n",
    "        return -1\n",
    "    l, r = 0, len(nums)-1\n",
    "    while l <= r:\n",
    "        mid = (l+r)//2\n",
    "        if nums[mid] == target:\n",
    "            return mid\n",
    "        if nums[l] <= nums[mid]:\n",
    "            if nums[l] <= target < nums[mid]:\n",
    "                r = mid - 1\n",
    "            else:\n",
    "                l = mid + 1\n",
    "        else:\n",
    "            if nums[mid] < target <= nums[r]:\n",
    "                l = mid + 1\n",
    "            else:\n",
    "                r = mid - 1\n",
    "    return -1"
   ]
  },
  {
   "cell_type": "code",
   "execution_count": null,
   "metadata": {},
   "outputs": [],
   "source": [
    "#kth smallest element in binary search tree\n",
    "def kthSmallest(self, root, k):\n",
    "    self.res = None\n",
    "    self.count = 0\n",
    "    def dfs(node):\n",
    "        if node.left:\n",
    "            dfs(node.left)\n",
    "        self.count += 1\n",
    "        if self.count == k:\n",
    "            self.res = node.val\n",
    "            return\n",
    "        if node.right:\n",
    "            dfs(node.right)\n",
    "    dfs(root)\n",
    "    return self.res"
   ]
  },
  {
   "cell_type": "code",
   "execution_count": null,
   "metadata": {},
   "outputs": [],
   "source": [
    "# Binary search tree iterator\n",
    "\n",
    "class BSTIterator:\n",
    "    \n",
    "        def __init__(self, root):\n",
    "            self.stack = [] \n",
    "            while root:\n",
    "                self.stack.append(root)\n",
    "                root = root.left\n",
    "    \n",
    "        def next(self):\n",
    "            \"\"\"\n",
    "            @return the next smallest number\n",
    "            :rtype: int\n",
    "            \"\"\"\n",
    "            topmost_node = self.stack.pop()\n",
    "            curr = topmost_node.right\n",
    "\n",
    "            while curr:\n",
    "                self.stack.append(curr)\n",
    "                curr = curr.left\n",
    "            return topmost_node.val\n",
    "    \n",
    "        def hasNext(self):\n",
    "            \"\"\"\n",
    "            @return whether we have a next smallest number\n",
    "            :rtype: bool\n",
    "            \"\"\"\n",
    "            return len(self.stack) > 0"
   ]
  },
  {
   "cell_type": "code",
   "execution_count": null,
   "metadata": {},
   "outputs": [],
   "source": [
    "# rotten oranges\n",
    "\n",
    "def orangesRotting(self, grid):\n",
    "    self.m, self.n = len(grid), len(grid[0])\n",
    "    self.q = collections.deque()\n",
    "    fresh = 0\n",
    "    for i in range(m):\n",
    "        for j in range(n):\n",
    "            if grid[i][j] == 2:\n",
    "                self.q.append((i, j))\n",
    "            elif grid[i][j] == 1:\n",
    "                fresh += 1\n",
    "    if fresh == 0:\n",
    "        return 0\n",
    "    time = 0\n",
    "    while self.q:\n",
    "        time += 1\n",
    "        for _ in range(len(q)):\n",
    "            i, j = q.popleft() # i, j is the position of rotten orange\n",
    "            for x, y in [(i+1, j), (i-1, j), (i, j+1), (i, j-1)]:\n",
    "                r,c = i + x, j + y\n",
    "                if 0 <= r < self.m and 0 <= c < self.n and grid[r][c] == 1:\n",
    "                    grid[r][c] = 2\n",
    "                    fresh -= 1\n",
    "                    self.q.append((r, c))\n",
    "    return time - 1 if fresh == 0 else -1\n",
    "    "
   ]
  },
  {
   "cell_type": "code",
   "execution_count": 6,
   "metadata": {},
   "outputs": [
    {
     "name": "stdout",
     "output_type": "stream",
     "text": [
      "[(4, 0), (0, 4), (3, 1), (1, 4), (3, 0), (2, 2), (1, 3)]\n"
     ]
    }
   ],
   "source": [
    "# pacific atlantic water flow\n",
    "\n",
    "def pacificAtlantic(matrix):\n",
    "    m, n = len(matrix), len(matrix[0])\n",
    "    pacific = set()\n",
    "    atlantic = set()\n",
    "\n",
    "    def dfs(i, j, visited):\n",
    "        visited.add((i, j))\n",
    "        for x, y in [(i+1, j), (i-1, j), (i, j+1), (i, j-1)]:\n",
    "            if 0 <= x < m and 0 <= y < n and matrix[x][y] >= matrix[i][j] and (x, y) not in visited:\n",
    "                dfs(x, y, visited)\n",
    "\n",
    "    for i in range(m): # traverse the first and last column\n",
    "        dfs(i, 0, pacific)\n",
    "        dfs(i, n-1, atlantic)\n",
    "    for j in range(n):\n",
    "        dfs(0, j, pacific)\n",
    "        dfs(m-1, j, atlantic)\n",
    "    return list(pacific & atlantic)\n",
    "\n",
    "print(pacificAtlantic([[1,2,2,3,5],[3,2,3,4,4],[2,4,5,3,1],[6,7,1,4,5],[5,1,1,2,4]]))\n",
    "\n"
   ]
  },
  {
   "cell_type": "code",
   "execution_count": null,
   "metadata": {},
   "outputs": [],
   "source": [
    "# course schedule\n",
    "\n",
    "def canFinish(numCourses, prerequisites):\n",
    "\n",
    "    graph = collections.defaultdict(list)\n",
    "\n",
    "    for crs, pre in prerequisites:\n",
    "        graph[crs].append(pre)  # dictionary of courses and their prerequisites\n",
    "\n",
    "    visited = set() # set of visited courses\n",
    "\n",
    "    def dfs(crs):\n",
    "        if crs in visited: # if the course is visited, there is a cycle\n",
    "            return False\n",
    "        if graph[crs] == []: # if the course has no prerequisites, return True\n",
    "            return True \n",
    "\n",
    "        visited.add(crs) # add the course to visited set\n",
    "        for pre in graph[crs]: # pre is the prerequisite of crs\n",
    "            if not dfs(pre): return False    # if the prerequisite is not visited, return False \n",
    "        visited.remove(crs) # remove the course from visited set\n",
    "        graph[crs] = [] # remove the course from the graph\n",
    "\n",
    "        return True # if the course has no prerequisites, return True\n",
    "\n",
    "    for crs in range(numCourses): # for each course\n",
    "        if not dfs(crs): return False # if the course is not visited, return False\n",
    "\n",
    "    return True \n",
    "\n",
    "\n",
    "        \n",
    "\n",
    "\n",
    "\n",
    "\n"
   ]
  },
  {
   "cell_type": "code",
   "execution_count": null,
   "metadata": {},
   "outputs": [],
   "source": [
    "# Bus Schedule\n",
    "\n",
    "def busSchedule(source, target, routes):\n",
    "    graph = collecitons.defaultdict(list)\n",
    "\n",
    "    for i, route in enumerate(routes):\n",
    "        for stop in route:\n",
    "            graph[stop].append(i)\n",
    "    \n",
    "    num_of_bus = 0\n",
    "    q = collections.deque([(source, 0)])\n",
    "    visit_routes = set()\n",
    "    visit_stops = set()\n",
    "\n",
    "    while q:\n",
    "        stop = q.popleft()\n",
    "\n",
    "        if stop == target:\n",
    "            return stop\n",
    "\n",
    "        for routeid in graph[stop]:\n",
    "            if routeid not in visit_routes:\n",
    "                visit_routes.add(routeid)\n",
    "                for stop in routes[routeid]:\n",
    "                    if stop not in visit_stops:\n",
    "                        visit_stops.add(stop)\n",
    "                        q.append((stop, stop[1]+1))\n",
    "        num_of_bus += 1\n",
    "    return -1\n",
    "\n"
   ]
  },
  {
   "cell_type": "code",
   "execution_count": 7,
   "metadata": {},
   "outputs": [
    {
     "name": "stdout",
     "output_type": "stream",
     "text": [
      "defaultdict(<class 'list'>, {0: [1], 1: [0]})\n",
      "defaultdict(<class 'list'>, {0: [1], 1: [0, 2], 2: [1]})\n",
      "defaultdict(<class 'list'>, {0: [1], 1: [0, 2], 2: [1, 3], 3: [2]})\n",
      "defaultdict(<class 'list'>, {0: [1], 1: [0, 2, 3], 2: [1, 3], 3: [2, 1]})\n",
      "True\n"
     ]
    }
   ],
   "source": [
    "# detect cycle in undirected graph\n",
    "\n",
    "import collections\n",
    "def hasCycle(edges):\n",
    "    graph = collections.defaultdict(list)\n",
    "    for u, v in edges:\n",
    "        graph[u].append(v)\n",
    "        graph[v].append(u)\n",
    "        # print(graph)\n",
    "\n",
    "\n",
    "    visited = set()\n",
    "    def dfs(node, parent):\n",
    "        if node in visited:\n",
    "            return True\n",
    "        visited.add(node)\n",
    "        for nei in graph[node]:\n",
    "            if nei != parent and dfs(nei, node):\n",
    "                return True\n",
    "        return False\n",
    "\n",
    "    for node in graph:\n",
    "        if node not in visited and dfs(node, None):\n",
    "            return True\n",
    "    return False\n",
    "\n",
    "print(hasCycle([[0,1],[1,2],[2,3],[3,1]]))"
   ]
  },
  {
   "cell_type": "code",
   "execution_count": null,
   "metadata": {},
   "outputs": [],
   "source": [
    "# detect cycle in directed graph\n",
    "\n",
    "def hasCycle(edges):\n",
    "    graph = collections.defaultdict(list)\n",
    "    for u, v in edges:\n",
    "        graph[u].append(v)\n",
    "\n",
    "    visited = set()\n",
    "    def dfs(node):\n",
    "        if node in visited:\n",
    "            return True\n",
    "        visited.add(node)\n",
    "        for nei in graph[node]:\n",
    "            if dfs(nei):\n",
    "                return True\n",
    "        visited.remove(node)\n",
    "        return False\n",
    "\n",
    "    for node in graph:\n",
    "        if dfs(node):\n",
    "            return True\n",
    "    return False"
   ]
  },
  {
   "cell_type": "code",
   "execution_count": null,
   "metadata": {},
   "outputs": [],
   "source": [
    "# graph valid tree\n",
    "\n",
    "def validTree(n, edges):\n",
    "    graph = collections.defaultdict(list)\n",
    "    for u, v in edges:\n",
    "        graph[u].append(v)\n",
    "        graph[v].append(u)\n",
    "\n",
    "    visited = set()\n",
    "    def dfs(node, parent):\n",
    "        if node in visited:\n",
    "            return False\n",
    "        visited.add(node)\n",
    "        for nei in graph[node]:\n",
    "            if nei != parent and not dfs(nei, node): # if the neighbor is not the parent and the neighbor is not visited, return False\n",
    "                return False\n",
    "        return True\n",
    "\n",
    "    if not dfs(0, None):\n",
    "        return False\n",
    "    return len(visited) == n"
   ]
  },
  {
   "cell_type": "code",
   "execution_count": null,
   "metadata": {},
   "outputs": [],
   "source": [
    "# Longest substring without repeating characters\n",
    "\n",
    "def lengthOfLongestSubstring(s):\n",
    "    n = len(s)\n",
    "\n",
    "    if n == 0:\n",
    "        return 0\n",
    "    ans = 0\n",
    "    mp = {}\n",
    "    i = 0\n",
    "\n",
    "# try to extend the range [i, j]\n",
    "    for j in range(n):\n",
    "        if s[j] in mp:\n",
    "            i = max(mp[s[j]], i)\n",
    "        mp[s[j]] = j + 1\n",
    "        ans = max(ans, j - i + 1)\n",
    "    return ans\n",
    "    \n",
    "\n"
   ]
  },
  {
   "cell_type": "code",
   "execution_count": null,
   "metadata": {},
   "outputs": [],
   "source": [
    "# bruteforce solution for solving 3 sum colsest\n",
    "\n",
    "def threeSumClosest(nums, target):\n",
    "    nums.sort()\n",
    "    ans = sum(nums[:3])\n",
    "    for i in range(len(nums) - 2):\n",
    "        j, k = i + 1, len(nums) - 1\n",
    "        while j < k:\n",
    "            s = nums[i] + nums[j] + nums[k]\n",
    "            if s == target:\n",
    "                return s\n",
    "            if abs(s - target) < abs(ans - target):\n",
    "                ans = s\n",
    "            if s < target:\n",
    "                j += 1\n",
    "            else:\n",
    "                k -= 1\n",
    "    return ans"
   ]
  },
  {
   "cell_type": "code",
   "execution_count": null,
   "metadata": {},
   "outputs": [],
   "source": [
    "# implement queue using stack\n",
    "\n",
    "class MyQueue:\n",
    "    \n",
    "        def __init__(self):\n",
    "            \"\"\"\n",
    "            Initialize your data structure here.\n",
    "            \"\"\"\n",
    "            self.stack = []\n",
    "            self.temp  []\n",
    "    \n",
    "        def push(self, x: int) -> None:\n",
    "            \"\"\"\n",
    "            Push element x to the back of queue.\n",
    "            \"\"\"\n",
    "            self.stack.append(x)\n",
    "    \n",
    "        def pop(self) -> int:\n",
    "            \"\"\"\n",
    "            Removes the element from in front of queue and returns that element.\n",
    "            \"\"\"\n",
    "            while self.stack:\n",
    "                self.temp.append(self.stack.pop())\n",
    "            res = self.temp.pop()\n",
    "            while self.temp:\n",
    "                self.stack.append(self.temp.pop())\n",
    "            return res\n",
    "    \n",
    "        def peek(self) -> int:\n",
    "            \"\"\"\n",
    "            Get the front element.\n",
    "            \"\"\"\n",
    "            while self.stack:\n",
    "                self.temp.append(self.stack.pop())\n",
    "            res = self.temp[-1]\n",
    "            while self.temp:\n",
    "                self.stack.append(self.temp.pop())\n",
    "            return res\n",
    "    \n",
    "        def empty(self) -> bool:\n",
    "            \"\"\"\n",
    "            Returns whether the queue is empty.\n",
    "            \"\"\"\n",
    "            return self.stack == []"
   ]
  },
  {
   "cell_type": "code",
   "execution_count": 2,
   "metadata": {},
   "outputs": [
    {
     "name": "stdout",
     "output_type": "stream",
     "text": [
      "[5, 10]\n"
     ]
    }
   ],
   "source": [
    "# asteriod collision\n",
    "\n",
    "def asteroidCollision(asteroids):\n",
    "    stack = []\n",
    "    for a in asteroids:\n",
    "        while stack and stack[-1] > 0 and a <0:\n",
    "            if stack[-1] + a < 0: stack.pop()\n",
    "            elif stack[-1] + a > 0: break\n",
    "            else: stack.pop(); break\n",
    "\n",
    "        else: stack.append(a)\n",
    "    return stack\n",
    "\n",
    "print(asteroidCollision([5,10,-5]))\n"
   ]
  },
  {
   "cell_type": "code",
   "execution_count": null,
   "metadata": {},
   "outputs": [],
   "source": [
    "# Binary tree preorder traversal\n",
    "\n",
    "def preorderTraversal(root):\n",
    "    if not root:\n",
    "        return []\n",
    "    stack = [root]\n",
    "    res = []\n",
    "    while stack:\n",
    "        node = stack.pop()\n",
    "        res.append(node.val)\n",
    "        if node.right:\n",
    "            stack.append(node.right)\n",
    "        if node.left:\n",
    "            stack.append(node.left)\n",
    "    return res\n",
    "\n",
    "# time complexity O(n) and space complexity O(n)\n",
    "# binary tree preorder traversal with recursion\n",
    "\n",
    "def preorderTraversal(root):\n",
    "    res = []\n",
    "    def dfs(root):\n",
    "        if not root:\n",
    "            return\n",
    "        res.append(root.val)\n",
    "        dfs(root.left)\n",
    "        dfs(root.right)\n",
    "    dfs(root)\n",
    "    return res\n",
    "\n",
    "# tc O(n) and sc O(n)"
   ]
  },
  {
   "cell_type": "code",
   "execution_count": 3,
   "metadata": {},
   "outputs": [
    {
     "name": "stdout",
     "output_type": "stream",
     "text": [
      "7\n"
     ]
    }
   ],
   "source": [
    "# basic calculator 2\n",
    "\n",
    "def calculate(s):\n",
    "    s = s.replace(\" \", \"\")\n",
    "    s = s + \"+\"\n",
    "    # print(s)\n",
    "    stack = []\n",
    "    num = 0\n",
    "    sign = \"+\"\n",
    "    for i in range(len(s)):\n",
    "        if s[i].isdigit():\n",
    "            num = num * 10 + int(s[i])\n",
    "            # print(num)\n",
    "        if i == len(s) - 1 or not s[i].isdigit():\n",
    "            if sign == \"+\":\n",
    "                stack.append(num)\n",
    "            elif sign == \"-\":\n",
    "                stack.append(-num)\n",
    "            elif sign == \"*\":\n",
    "                stack.append(stack.pop() * num)\n",
    "            elif sign == \"/\":\n",
    "                stack.append(int(stack.pop() / num))\n",
    "            num = 0\n",
    "            sign = s[i]\n",
    "    return sum(stack)\n",
    "\n",
    "print(calculate(\"3+2*2\"))\n",
    "\n",
    "\n",
    "\n"
   ]
  },
  {
   "cell_type": "code",
   "execution_count": null,
   "metadata": {},
   "outputs": [],
   "source": []
  }
 ],
 "metadata": {
  "kernelspec": {
   "display_name": "Python 3.9.6 64-bit",
   "language": "python",
   "name": "python3"
  },
  "language_info": {
   "codemirror_mode": {
    "name": "ipython",
    "version": 3
   },
   "file_extension": ".py",
   "mimetype": "text/x-python",
   "name": "python",
   "nbconvert_exporter": "python",
   "pygments_lexer": "ipython3",
   "version": "3.9.6"
  },
  "orig_nbformat": 4,
  "vscode": {
   "interpreter": {
    "hash": "81794d4967e6c3204c66dcd87b604927b115b27c00565d3d43f05ba2f3a2cb0d"
   }
  }
 },
 "nbformat": 4,
 "nbformat_minor": 2
}
