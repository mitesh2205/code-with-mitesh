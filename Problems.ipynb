{
 "cells": [
  {
   "cell_type": "code",
   "execution_count": 1,
   "metadata": {},
   "outputs": [
    {
     "name": "stdout",
     "output_type": "stream",
     "text": [
      "-1\n"
     ]
    }
   ],
   "source": [
    "# Kadanes algorithm\n",
    "\n",
    "arr=[-1,-2,-3,-4]\n",
    "curr=0\n",
    "maxi=float('-inf')\n",
    "for i in arr:\n",
    "    curr+=i\n",
    "    maxi=max(curr,maxi)\n",
    "    if curr<0:\n",
    "        curr=0\n",
    "print(maxi)"
   ]
  },
  {
   "cell_type": "code",
   "execution_count": null,
   "metadata": {},
   "outputs": [],
   "source": [
    "# Odd Even Linked List\n",
    "\n",
    "odd_head = ListNode(None)\n",
    "odd_node = odd_head\n",
    "even_head = ListNode(None)\n",
    "even_node = even_head\n",
    "is_even = True\n",
    "while head:\n",
    "    if is_even:\n",
    "        even_node.next = head\n",
    "        even_node = even_node.next\n",
    "    else:\n",
    "        odd_node.next = head\n",
    "        odd_node = odd_node.next\n",
    "    head = head.next\n",
    "    is_even = not is_even\n",
    "odd_node.next = even_head.next\n",
    "even_node.next = None\n",
    "return odd_head.next"
   ]
  },
  {
   "cell_type": "code",
   "execution_count": 1,
   "metadata": {},
   "outputs": [
    {
     "name": "stdout",
     "output_type": "stream",
     "text": [
      "3\n"
     ]
    }
   ],
   "source": [
    "# coin change problem\n",
    "\n",
    "def coinChange(coins, amount):\n",
    "    dp = [0] + [amount + 1] * amount\n",
    "    for i in range(amount):\n",
    "        for coin in coins:\n",
    "            if coin <= i + 1:\n",
    "                dp[i + 1] = min(dp[i + 1], dp[i + 1 - coin] + 1)\n",
    "    return dp[amount] if dp[amount] <= amount else -1\n",
    "\n",
    "print(coinChange([1,2,5],11))"
   ]
  },
  {
   "cell_type": "code",
   "execution_count": 2,
   "metadata": {},
   "outputs": [
    {
     "name": "stdout",
     "output_type": "stream",
     "text": [
      "dict_values([['eat', 'tea', 'ate'], ['tan', 'nat'], ['bat']])\n"
     ]
    }
   ],
   "source": [
    "# group anagram problem\n",
    "\n",
    "def groupAnagrams(strs):\n",
    "    d={}\n",
    "    for i in strs:\n",
    "        key=tuple(sorted(i))\n",
    "        d[key]=d.get(key,[])+[i]\n",
    "    return d.values()\n",
    "\n",
    "print(groupAnagrams([\"eat\", \"tea\", \"tan\", \"ate\", \"nat\", \"bat\"]))\n",
    "\n",
    "#tc:O(nklogk) sc:O(nk)"
   ]
  },
  {
   "cell_type": "code",
   "execution_count": null,
   "metadata": {},
   "outputs": [],
   "source": []
  }
 ],
 "metadata": {
  "kernelspec": {
   "display_name": "Python 3.9.6 64-bit",
   "language": "python",
   "name": "python3"
  },
  "language_info": {
   "codemirror_mode": {
    "name": "ipython",
    "version": 3
   },
   "file_extension": ".py",
   "mimetype": "text/x-python",
   "name": "python",
   "nbconvert_exporter": "python",
   "pygments_lexer": "ipython3",
   "version": "3.9.6"
  },
  "orig_nbformat": 4,
  "vscode": {
   "interpreter": {
    "hash": "81794d4967e6c3204c66dcd87b604927b115b27c00565d3d43f05ba2f3a2cb0d"
   }
  }
 },
 "nbformat": 4,
 "nbformat_minor": 2
}
