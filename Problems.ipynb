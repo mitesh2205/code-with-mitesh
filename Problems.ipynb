{
 "cells": [
  {
   "cell_type": "code",
   "execution_count": 1,
   "metadata": {},
   "outputs": [
    {
     "name": "stdout",
     "output_type": "stream",
     "text": [
      "-1\n"
     ]
    }
   ],
   "source": [
    "# Kadanes algorithm\n",
    "\n",
    "arr=[-1,-2,-3,-4]\n",
    "curr=0\n",
    "maxi=float('-inf')\n",
    "for i in arr:\n",
    "    curr+=i\n",
    "    maxi=max(curr,maxi)\n",
    "    if curr<0:\n",
    "        curr=0\n",
    "print(maxi)"
   ]
  },
  {
   "cell_type": "code",
   "execution_count": null,
   "metadata": {},
   "outputs": [],
   "source": [
    "# Odd Even Linked List\n",
    "\n",
    "odd_head = ListNode(None)\n",
    "odd_node = odd_head\n",
    "even_head = ListNode(None)\n",
    "even_node = even_head\n",
    "is_even = True\n",
    "while head:\n",
    "    if is_even:\n",
    "        even_node.next = head\n",
    "        even_node = even_node.next\n",
    "    else:\n",
    "        odd_node.next = head\n",
    "        odd_node = odd_node.next\n",
    "    head = head.next\n",
    "    is_even = not is_even\n",
    "odd_node.next = even_head.next\n",
    "even_node.next = None\n",
    "return odd_head.next"
   ]
  },
  {
   "cell_type": "code",
   "execution_count": 2,
   "metadata": {},
   "outputs": [],
   "source": [
    "# Linked List Cycle II   \n",
    "# Given the head of a linked list, return the node where the cycle begins. If there is no cycle, return null.\n",
    "\n",
    "# There is a cycle in a linked list if there is some node in the list that can be reached again by continuously following the next pointer. Internally, pos is used to denote the index of the node that tail's next pointer is connected to (0-indexed). It is -1 if there is no cycle. Note that pos is not passed as a parameter.\n",
    "\n",
    "def detectCycle(self, head: ListNode) -> ListNode:\n",
    "        slow = fast = head\n",
    "        while fast and fast.next:\n",
    "            slow = slow.next\n",
    "            fast = fast.next.next\n",
    "            if slow == fast:\n",
    "                break\n",
    "        else:\n",
    "            return None\n",
    "        slow = head\n",
    "        while slow != fast:\n",
    "            slow = slow.next\n",
    "            fast = fast.next\n",
    "        return slow"
   ]
  },
  {
   "cell_type": "code",
   "execution_count": 1,
   "metadata": {},
   "outputs": [
    {
     "name": "stdout",
     "output_type": "stream",
     "text": [
      "3\n"
     ]
    }
   ],
   "source": [
    "# coin change problem\n",
    "\n",
    "def coinChange(coins, amount):\n",
    "    dp = [0] + [amount + 1] * amount\n",
    "    for i in range(amount):\n",
    "        for coin in coins:\n",
    "            if coin <= i + 1:\n",
    "                dp[i + 1] = min(dp[i + 1], dp[i + 1 - coin] + 1)\n",
    "    return dp[amount] if dp[amount] <= amount else -1\n",
    "\n",
    "print(coinChange([1,2,5],11))"
   ]
  },
  {
   "cell_type": "code",
   "execution_count": 2,
   "metadata": {},
   "outputs": [
    {
     "name": "stdout",
     "output_type": "stream",
     "text": [
      "dict_values([['eat', 'tea', 'ate'], ['tan', 'nat'], ['bat']])\n"
     ]
    }
   ],
   "source": [
    "# group anagram problem\n",
    "\n",
    "def groupAnagrams(strs):\n",
    "    d={}\n",
    "    for i in strs:\n",
    "        key=tuple(sorted(i))\n",
    "        d[key]=d.get(key,[])+[i]\n",
    "    return d.values()\n",
    "\n",
    "print(groupAnagrams([\"eat\", \"tea\", \"tan\", \"ate\", \"nat\", \"bat\"]))\n",
    "\n",
    "#tc:O(nklogk) sc:O(nk)"
   ]
  },
  {
   "cell_type": "code",
   "execution_count": 1,
   "metadata": {},
   "outputs": [
    {
     "data": {
      "text/plain": [
       "8"
      ]
     },
     "execution_count": 1,
     "metadata": {},
     "output_type": "execute_result"
    }
   ],
   "source": [
    "# climbing stair case\n",
    "\n",
    "def climbing(n):\n",
    "    if n <= 3:\n",
    "        return n\n",
    "    a,b = 2,3\n",
    "    for i in range(4,n+1):\n",
    "        a,b = b, a+b\n",
    "    \n",
    "    return b\n",
    "climbing(5)\n"
   ]
  },
  {
   "cell_type": "code",
   "execution_count": 4,
   "metadata": {},
   "outputs": [
    {
     "name": "stdout",
     "output_type": "stream",
     "text": [
      "5\n"
     ]
    }
   ],
   "source": [
    "# Best Time to buy and sell stock problem\n",
    "\n",
    "def maxProfit(prices):\n",
    "    max_val = 0\n",
    "    i,j = 0,1\n",
    "    while j < len(prices):\n",
    "        if prices[j] > prices[i]:\n",
    "            max_val = max(max_val, prices[j] - prices[i])\n",
    "        else:\n",
    "            i = j\n",
    "        j += 1\n",
    "    return max_val\n",
    "\n",
    "print(maxProfit([7,1,5,3,6,4]))\n"
   ]
  },
  {
   "cell_type": "code",
   "execution_count": 1,
   "metadata": {},
   "outputs": [
    {
     "data": {
      "text/plain": [
       "4"
      ]
     },
     "execution_count": 1,
     "metadata": {},
     "output_type": "execute_result"
    }
   ],
   "source": [
    "# House Robber\n",
    "\n",
    "def rob(nums):\n",
    "    if len(nums) == 1:\n",
    "        return nums[0]\n",
    "    dp = [0] * len(nums)\n",
    "    dp[0] = nums[0]\n",
    "    dp[1] = max(nums[0], nums[1])\n",
    "    for i in range(2, len(nums)):\n",
    "        dp[i] = max(dp[i-1], dp[i-2] + nums[i])\n",
    "    return dp[-1]\n",
    "\n",
    "rob([1,2,3,1])"
   ]
  },
  {
   "cell_type": "code",
   "execution_count": 1,
   "metadata": {},
   "outputs": [
    {
     "name": "stdout",
     "output_type": "stream",
     "text": [
      "21\n"
     ]
    }
   ],
   "source": [
    "# maximum subarray\n",
    "\n",
    "def maxSubArray(nums):\n",
    "    if not nums:\n",
    "        return 0\n",
    "    curr_sum = max_sum = nums[0]\n",
    "    for i in range(1, len(nums)):\n",
    "        curr_sum = max(nums[i], curr_sum + nums[i])\n",
    "        max_sum = max(curr_sum, max_sum)\n",
    "    return max_sum\n",
    "\n",
    "print(maxSubArray([5,2,-1,7,8]))\n",
    "\n",
    "# solve maximum subarray problem with dp\n",
    "\n",
    "def maxSubArray(nums):\n",
    "    if not nums:\n",
    "        return 0\n",
    "    dp = [0] * len(nums)\n",
    "    dp[0] = nums[0]\n",
    "    for i in range(1, len(nums)):\n",
    "        dp[i] = max(nums[i], dp[i-1] + nums[i])\n",
    "    return max(dp)\n",
    "\n",
    "    \n"
   ]
  },
  {
   "cell_type": "code",
   "execution_count": null,
   "metadata": {},
   "outputs": [],
   "source": [
    "# maximum product subarray\n",
    "\n",
    "def maxProduct(nums):\n",
    "    if not nums:\n",
    "        return 0\n",
    "    max_prod = min_prod = res = nums[0]\n",
    "    for i in range(1, len(nums)):\n",
    "        curr_max = max_prod\n",
    "        max_prod = max(nums[i], max_prod * nums[i], min_prod * nums[i])\n",
    "        min_prod = min(nums[i], curr_max * nums[i], min_prod * nums[i])\n",
    "        res = max(max_prod, res)\n",
    "    return res\n",
    "\n",
    "# use dp to solve maxProduct subarray problem\n",
    "\n",
    "def maxProduct(nums):\n",
    "    if not nums:\n",
    "        return 0\n",
    "    dp = [[0] * 2 for _ in range(len(nums))]\n",
    "    dp[0][0] = dp[0][1] = nums[0]\n",
    "    for i in range(1, len(nums)):\n",
    "        dp[i][0] = max(nums[i], dp[i-1][0] * nums[i], dp[i-1][1] * nums[i])\n",
    "        dp[i][1] = min(nums[i], dp[i-1][0] * nums[i], dp[i-1][1] * nums[i])\n",
    "    return max([max(i) for i in dp])"
   ]
  },
  {
   "cell_type": "code",
   "execution_count": 6,
   "metadata": {},
   "outputs": [
    {
     "name": "stdout",
     "output_type": "stream",
     "text": [
      "3\n"
     ]
    }
   ],
   "source": [
    "# longest common subsequence\n",
    "\n",
    "def longestCommonSubsequence(text1, text2):\n",
    "    m, n = len(text1), len(text2)\n",
    "    dp = [ [0] * (n+1) for _ in range(m+1)]\n",
    "    for i in range(1,m+1):\n",
    "        for j in range(1,n+1):\n",
    "            if text1[i-1] == text2[j-1]:\n",
    "                dp[i][j] = dp[i-1][j-1] + 1\n",
    "            else:\n",
    "                dp[i][j] = max(dp[i-1][j], dp[i][j-1])\n",
    "    return dp[m][n]\n",
    "\n",
    "\n",
    "print(longestCommonSubsequence(\"abcde\", \"ace\"))\n"
   ]
  },
  {
   "cell_type": "code",
   "execution_count": 2,
   "metadata": {},
   "outputs": [],
   "source": [
    "# merge two sorted list\n",
    "\n",
    "def mergeTwoLists(l1, l2):\n",
    "    dummy = ListNode(0)\n",
    "    head = dummy\n",
    "    while l1 and l2:\n",
    "        if l1.val < l2.val:\n",
    "            head.next = l1\n",
    "            l1 = l1.next\n",
    "        else:\n",
    "            head.next = l2\n",
    "            l2 = l2.next\n",
    "        head = head.next\n",
    "    if l1:\n",
    "        head.next = l1\n",
    "    if l2:\n",
    "        head.next = l2\n",
    "    return dummy.next\n",
    "\n",
    "    "
   ]
  },
  {
   "cell_type": "code",
   "execution_count": 3,
   "metadata": {},
   "outputs": [],
   "source": [
    "# middle of the linked list\n",
    "\n",
    "def middle_link_list(head):\n",
    "    slow = fast = head\n",
    "    while fast and fast.next:\n",
    "        slow = slow.next\n",
    "        fast = fast.next.next\n",
    "    return slow"
   ]
  },
  {
   "cell_type": "code",
   "execution_count": 3,
   "metadata": {},
   "outputs": [],
   "source": [
    "# Binary tree Level order traversal\n",
    "\n",
    "def level_order_traversal():\n",
    "    if not root: # if root is None\n",
    "        return []\n",
    "    res = [] # result\n",
    "    q = collections.deque() # queue\n",
    "    q.append(root) # append root to queue\n",
    "    while q: # while queue is not empty\n",
    "        val = [] # list to store values of nodes in a level\n",
    "        for i in range(len(q)): # for each node in a level\n",
    "            node = q.popleft() # pop the node from queue\n",
    "            val.append(node.val) # append the value of the node to val\n",
    "            if node.left: # if left child exists\n",
    "                q.append(node.left) # append left child to queue\n",
    "            if node.right: # if right child exists\n",
    "                q.append(node.right) # append right child to queue\n",
    "        res.append(val) # append val to result\n",
    "    return res # return result\n"
   ]
  },
  {
   "cell_type": "code",
   "execution_count": null,
   "metadata": {},
   "outputs": [],
   "source": []
  }
 ],
 "metadata": {
  "kernelspec": {
   "display_name": "Python 3.9.6 64-bit",
   "language": "python",
   "name": "python3"
  },
  "language_info": {
   "codemirror_mode": {
    "name": "ipython",
    "version": 3
   },
   "file_extension": ".py",
   "mimetype": "text/x-python",
   "name": "python",
   "nbconvert_exporter": "python",
   "pygments_lexer": "ipython3",
   "version": "3.9.6"
  },
  "orig_nbformat": 4,
  "vscode": {
   "interpreter": {
    "hash": "81794d4967e6c3204c66dcd87b604927b115b27c00565d3d43f05ba2f3a2cb0d"
   }
  }
 },
 "nbformat": 4,
 "nbformat_minor": 2
}
