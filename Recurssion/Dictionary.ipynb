{
 "cells": [
  {
   "cell_type": "code",
   "execution_count": 2,
   "metadata": {},
   "outputs": [
    {
     "name": "stdout",
     "output_type": "stream",
     "text": [
      "Mitesh 25\n",
      "Computer Science abhfjbakf\n",
      "{'name': 'Mitesh', 'grade': [88, 92, 79], 'major': 'Computer Science'}\n",
      "name Mitesh\n",
      "grade [88, 92, 79]\n",
      "major Computer Science\n",
      "True\n"
     ]
    }
   ],
   "source": [
    "# Create a Dictionary:\n",
    "\n",
    "# Create a dictionary named student with keys name, age, and grades, and corresponding values of your choice.\n",
    "\n",
    "student = {}\n",
    "student[\"name\"] = \"Mitesh\"\n",
    "student[\"age\"] = 25\n",
    "student[\"grade\"] = [88, 92, 79]\n",
    "\n",
    "print(student[\"name\"], student[\"age\"])\n",
    "\n",
    "student[\"major\"] = \"Computer Science\"\n",
    "\n",
    "print(student.get(\"major\"), \"abhfjbakf\")\n",
    "\n",
    "del student[\"age\"]\n",
    "\n",
    "print(student)\n",
    "\n",
    "\n",
    "\n",
    "for key, value in student.items():\n",
    "    print(key, value)\n",
    "\n",
    "print(\"grade\" in student)"
   ]
  },
  {
   "cell_type": "code",
   "execution_count": 12,
   "metadata": {},
   "outputs": [
    {
     "name": "stdout",
     "output_type": "stream",
     "text": [
      "{1: 1, 2: 4, 3: 9, 4: 16, 5: 25}\n",
      "{1: 1, 2: 8, 3: 27, 4: 64, 5: 125}\n"
     ]
    }
   ],
   "source": [
    "# Dictionary compreshension\n",
    "\n",
    "square = {num: num**2 for num in range(1,6)}\n",
    "print(square)\n",
    "\n",
    "\n",
    "cube = {num: num**3 for num in range(1,6)}\n",
    "print(cube)\n",
    "\n"
   ]
  },
  {
   "cell_type": "code",
   "execution_count": 16,
   "metadata": {},
   "outputs": [
    {
     "name": "stdout",
     "output_type": "stream",
     "text": [
      "{'a': 1, 'b': 3, 'c': 4}\n",
      "{'a': 3, 'b': 5, 'c': 6}\n"
     ]
    }
   ],
   "source": [
    "d1 = {'a': 1, 'b': 2}\n",
    "d2 = {'b': 3, 'c': 4}\n",
    "\n",
    "merged_dict = {**d1, **d2}\n",
    "print(merged_dict)\n",
    "\n",
    "d_temp = {'a': 2, 'b': 3}\n",
    "d_temp_dup = {'a':3, 'b':5, 'c':6}\n",
    "merged_dict = {**d_temp, **d_temp_dup}\n",
    "print(merged_dict)"
   ]
  },
  {
   "cell_type": "code",
   "execution_count": 18,
   "metadata": {},
   "outputs": [
    {
     "name": "stdout",
     "output_type": "stream",
     "text": [
      "{'John': {'age': 20, 'grades': [88, 92, 79]}, 'Jane': {'age': 22, 'grades': [95, 90, 85]}, 'Alice': {'age': 24, 'grades': [89, 67, 87]}}\n"
     ]
    }
   ],
   "source": [
    "classroom = {\n",
    "    'John': {\n",
    "        'age': 20,\n",
    "        'grades': [88,92,79]\n",
    "    },\n",
    "    'Jane': {\n",
    "        'age': 22,\n",
    "        'grades': [95,90,85]\n",
    "    },\n",
    "    'Alice': {\n",
    "        'age':24,\n",
    "        'grades': [89,67,87]\n",
    "    }\n",
    "}\n",
    "\n",
    "print(classroom)"
   ]
  },
  {
   "cell_type": "code",
   "execution_count": 3,
   "metadata": {},
   "outputs": [
    {
     "name": "stdout",
     "output_type": "stream",
     "text": [
      "{'Jane': 92, 'John': 88, 'Dave': 79}\n"
     ]
    }
   ],
   "source": [
    "# Sorting a Dictionary:\n",
    "\n",
    "# Given a dictionary grades = {'John': 88, 'Jane': 92, 'Dave': 79}, write a code snippet to sort the dictionary by values and print the result in descending order.\n",
    "\n",
    "\n",
    "grades = {'John': 88, 'Jane': 92, 'Dave': 79}\n",
    "\n",
    "sorted_grades = dict(sorted(grades.items(), key=lambda item: item[1], reverse=True))\n",
    "\n",
    "print(sorted_grades)"
   ]
  },
  {
   "cell_type": "code",
   "execution_count": 4,
   "metadata": {},
   "outputs": [
    {
     "name": "stdout",
     "output_type": "stream",
     "text": [
      "{'Author 1': ['Book A', 'Book C'], 'Author 2': ['Book B']}\n"
     ]
    }
   ],
   "source": [
    "# Given a list of dictionaries representing books books = [{'title': 'Book A', 'author': 'Author 1', 'year': 2001}, {'title': 'Book B', 'author': 'Author 2', 'year': 1999}, {'title': 'Book C', 'author': 'Author 1', 'year': 2005}], write a function group_by_author(books) that groups the books by authors and returns a dictionary where the keys are authors and the values are lists of book titles.\n",
    "\n",
    "books = [{'title': 'Book A', 'author': 'Author 1', 'year': 2001}, {'title': 'Book B', 'author': 'Author 2', 'year': 1999}, {'title': 'Book C', 'author': 'Author 1', 'year': 2005}]\n",
    "\n",
    "def group_by_author(books):\n",
    "    grouped_books = {}\n",
    "\n",
    "    for book in books:\n",
    "        author = book['author']\n",
    "        title = book['title']\n",
    "\n",
    "        if author in grouped_books:\n",
    "            grouped_books[author].append(title)\n",
    "        else:\n",
    "            grouped_books[author] = [title]\n",
    "\n",
    "    return grouped_books\n",
    "\n",
    "print(group_by_author(books))"
   ]
  },
  {
   "cell_type": "code",
   "execution_count": 6,
   "metadata": {},
   "outputs": [
    {
     "name": "stdout",
     "output_type": "stream",
     "text": [
      "{'key1': {'subkey1': 1, 'subkey2': 2}, 'key2': {'subkey3': 3, 'subkey4': 4}}\n",
      "{'key1': {'subkey1': 6, 'subkey2': 2}, 'key2': {'subkey3': 3, 'subkey4': 4}}\n",
      "{'key1': {'subkey1': 1, 'subkey2': 2}, 'key2': {'subkey3': 10, 'subkey4': 4}}\n",
      "{'key1': {'subkey1': 1, 'subkey2': 2}, 'key2': {'subkey3': 10, 'subkey4': 4}}\n"
     ]
    }
   ],
   "source": [
    "# DeepCopy and Shallow Copy\n",
    "\n",
    "import copy\n",
    "\n",
    "dictionary = {\n",
    "    'key1': {'subkey1': 1, 'subkey2': 2},\n",
    "    'key2': {'subkey3': 3, 'subkey4': 4}\n",
    "}\n",
    "\n",
    "deep_copy = copy.deepcopy(dictionary)\n",
    "copy = copy.copy(dictionary)\n",
    "\n",
    "deep_copy['key1']['subkey1'] = 6\n",
    "print(dictionary)\n",
    "print(deep_copy)\n",
    "copy['key2']['subkey3'] = 10\n",
    "print(dictionary)\n",
    "print(copy)"
   ]
  },
  {
   "cell_type": "code",
   "execution_count": null,
   "metadata": {},
   "outputs": [],
   "source": []
  }
 ],
 "metadata": {
  "kernelspec": {
   "display_name": "Python 3",
   "language": "python",
   "name": "python3"
  },
  "language_info": {
   "codemirror_mode": {
    "name": "ipython",
    "version": 3
   },
   "file_extension": ".py",
   "mimetype": "text/x-python",
   "name": "python",
   "nbconvert_exporter": "python",
   "pygments_lexer": "ipython3",
   "version": "3.11.3"
  }
 },
 "nbformat": 4,
 "nbformat_minor": 2
}
