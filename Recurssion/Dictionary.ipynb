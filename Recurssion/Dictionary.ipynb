{
 "cells": [
  {
   "cell_type": "code",
   "execution_count": 9,
   "metadata": {},
   "outputs": [
    {
     "name": "stdout",
     "output_type": "stream",
     "text": [
      "Mitesh 25\n",
      "{'name': 'Mitesh', 'age': 25, 'grade': [88, 92, 79], 'major': 'Computer Science'}\n",
      "{'name': 'Mitesh', 'grade': [88, 92, 79], 'major': 'Computer Science'}\n",
      "name Mitesh\n",
      "grade [88, 92, 79]\n",
      "major Computer Science\n",
      "True\n"
     ]
    }
   ],
   "source": [
    "# Create a Dictionary:\n",
    "\n",
    "# Create a dictionary named student with keys name, age, and grades, and corresponding values of your choice.\n",
    "\n",
    "student = {}\n",
    "student[\"name\"] = \"Mitesh\"\n",
    "student[\"age\"] = 25\n",
    "student[\"grade\"] = [88, 92, 79]\n",
    "\n",
    "print(student[\"name\"], student[\"age\"])\n",
    "\n",
    "student[\"major\"] = \"Computer Science\"\n",
    "\n",
    "print(student)\n",
    "\n",
    "del student[\"age\"]\n",
    "\n",
    "print(student)\n",
    "\n",
    "\n",
    "\n",
    "for key, value in student.items():\n",
    "    print(key, value)\n",
    "\n",
    "print(\"grade\" in student)"
   ]
  },
  {
   "cell_type": "code",
   "execution_count": 12,
   "metadata": {},
   "outputs": [
    {
     "name": "stdout",
     "output_type": "stream",
     "text": [
      "{1: 1, 2: 4, 3: 9, 4: 16, 5: 25}\n",
      "{1: 1, 2: 8, 3: 27, 4: 64, 5: 125}\n"
     ]
    }
   ],
   "source": [
    "# Dictionary compreshension\n",
    "\n",
    "square = {num: num**2 for num in range(1,6)}\n",
    "print(square)\n",
    "\n",
    "\n",
    "cube = { num: num**3 for num in range(1,6)}\n",
    "print(cube)\n",
    "\n"
   ]
  },
  {
   "cell_type": "code",
   "execution_count": 16,
   "metadata": {},
   "outputs": [
    {
     "name": "stdout",
     "output_type": "stream",
     "text": [
      "{'a': 1, 'b': 3, 'c': 4}\n",
      "{'a': 3, 'b': 5, 'c': 6}\n"
     ]
    }
   ],
   "source": [
    "d1 = {'a': 1, 'b': 2}\n",
    "d2 = {'b': 3, 'c': 4}\n",
    "\n",
    "merged_dict = {**d1, **d2}\n",
    "print(merged_dict)\n",
    "\n",
    "d_temp = {'a': 2, 'b': 3}\n",
    "d_temp_dup = {'a':3, 'b':5, 'c':6}\n",
    "merged_dict = {**d_temp, **d_temp_dup}\n",
    "print(merged_dict)"
   ]
  },
  {
   "cell_type": "code",
   "execution_count": null,
   "metadata": {},
   "outputs": [],
   "source": []
  },
  {
   "cell_type": "code",
   "execution_count": null,
   "metadata": {},
   "outputs": [],
   "source": []
  }
 ],
 "metadata": {
  "kernelspec": {
   "display_name": "Python 3",
   "language": "python",
   "name": "python3"
  },
  "language_info": {
   "codemirror_mode": {
    "name": "ipython",
    "version": 3
   },
   "file_extension": ".py",
   "mimetype": "text/x-python",
   "name": "python",
   "nbconvert_exporter": "python",
   "pygments_lexer": "ipython3",
   "version": "3.11.3"
  }
 },
 "nbformat": 4,
 "nbformat_minor": 2
}
