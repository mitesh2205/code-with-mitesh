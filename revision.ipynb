{
 "cells": [
  {
   "cell_type": "code",
   "execution_count": 3,
   "metadata": {},
   "outputs": [
    {
     "name": "stdout",
     "output_type": "stream",
     "text": [
      "[0, 1]\n"
     ]
    }
   ],
   "source": [
    "# two Sum\n",
    "\n",
    "def twoSum(nums, target):\n",
    "    d = {}\n",
    "    for i in range(len(nums)):\n",
    "        if target - nums[i] in d:\n",
    "            return [d[target - nums[i]], i]\n",
    "        d[nums[i]] = i\n",
    "\n",
    "print(twoSum([2, 7, 11, 15], 9))\n"
   ]
  },
  {
   "cell_type": "code",
   "execution_count": 5,
   "metadata": {},
   "outputs": [
    {
     "name": "stdout",
     "output_type": "stream",
     "text": [
      "True\n",
      "True\n"
     ]
    }
   ],
   "source": [
    "# valid anagram\n",
    "\n",
    "def isAnagram(s, t):\n",
    "    if len(s) != len(t):\n",
    "        return False\n",
    "\n",
    "    d = {}\n",
    "\n",
    "    count_s = [0] * 26\n",
    "    count_t = [0] * 26\n",
    "\n",
    "    for i in range(len(s)):\n",
    "        count_s[ord(s[i]) - ord('a')] += 1\n",
    "        count_t[ord(t[i]) - ord('a')] += 1\n",
    "\n",
    "    return count_s == count_t\n",
    "\n",
    "\n",
    "print(isAnagram('anagram', 'nagaram'))\n",
    "\n",
    "\n",
    "# another approach\n",
    "\n",
    "def isAnagram(s, t):\n",
    "    s_set = set(s)\n",
    "    t_set = set(t)\n",
    "\n",
    "    if s_set != t_set:\n",
    "        return False\n",
    "\n",
    "    for i in s_set:\n",
    "        if s.count(i) != t.count(i):\n",
    "            return False\n",
    "\n",
    "    return True\n",
    "\n",
    "\n",
    "print(isAnagram('anagram', 'nagaram'))\n",
    "\n",
    "\n"
   ]
  },
  {
   "cell_type": "code",
   "execution_count": null,
   "metadata": {},
   "outputs": [],
   "source": []
  }
 ],
 "metadata": {
  "kernelspec": {
   "display_name": "Python 3",
   "language": "python",
   "name": "python3"
  },
  "language_info": {
   "codemirror_mode": {
    "name": "ipython",
    "version": 3
   },
   "file_extension": ".py",
   "mimetype": "text/x-python",
   "name": "python",
   "nbconvert_exporter": "python",
   "pygments_lexer": "ipython3",
   "version": "3.9.6"
  },
  "orig_nbformat": 4,
  "vscode": {
   "interpreter": {
    "hash": "81794d4967e6c3204c66dcd87b604927b115b27c00565d3d43f05ba2f3a2cb0d"
   }
  }
 },
 "nbformat": 4,
 "nbformat_minor": 2
}
